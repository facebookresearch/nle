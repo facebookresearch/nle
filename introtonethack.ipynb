{
 "cells": [
  {
   "cell_type": "markdown",
   "id": "71dbce49",
   "metadata": {
    "id": "71dbce49"
   },
   "source": [
    "![NLE](https://raw.githubusercontent.com/facebookresearch/nle/master/dat/nle/logo.png)\n",
    "\n",
    "# A Brief Intro to NetHack & the NLE"
   ]
  },
  {
   "cell_type": "markdown",
   "id": "f036704c",
   "metadata": {
    "id": "f036704c"
   },
   "source": [
    "> *Welcome, adventurer! You have been heralded from birth as the instrument of the gods. You are destined to recover the Amulet of Yendor for your deity or die in the attempt. Your hour of destiny has come. For the sake of us all: Go bravely!*\n",
    "\n",
    "\n",
    "This notebook provides a brief overview of the game of NetHack, a glance at the NetHack Learning Environment (NLE) and finally lays down the gauntlet for the NetHack Chellenge!"
   ]
  },
  {
   "cell_type": "markdown",
   "id": "fdc6fcd4",
   "metadata": {
    "id": "fdc6fcd4"
   },
   "source": [
    "# What is NetHack? \n",
    "\n",
    "NetHack is a [roguelike](https://en.wikipedia.org/wiki/Roguelike) computer game, which was first introduced in the late 1980s. At the beginning of the game your hero is placed into a dungeon, with the goal to descend to the bottom of over 50 procedurally generated levels to retrieve the Amulet of Yendor. Once obtained, your hero must subsequently escape the dungeon, unlocking five extremely challenging final levels, before offering the Amulet to your in-game deity. \n",
    "\n",
    "A key component of NetHack is that it is *visually* simple, with observations solely making use of ascii characters, yet it is complex in almost every other way! \n",
    "\n",
    "There are several reasons why it is particularly challengng: \n",
    "\n",
    "1) The game is randomized, with everything from the layout of maps to the impact of actions based on the roll of a dice.  \n",
    "\n",
    "2) Unlike modern games, it is impossible to save, instead when you die you begin from scatch. Given the randomness (see above) this makes it especially \"unforgiving\" (as described on the wiki). Indeed, deaths are so common there is even an acronym - YASD, which stands for Yet Another Stupid Death. \n",
    "\n",
    "3) It is incredibly complex, with hundreds of different characters to observe and many more potential sequences of actions.\n",
    "\n",
    "Thus, unlike other games played by AI agents, NetHack is not solvable by the average human in just a few hours of gameplay. Instead - expert players often take many years to solve it - assuming they are even able to!\n",
    "\n",
    "NetHack has been actively developed for decades, and NLE makes use of version 3.6.6, originally released in March 2020."
   ]
  },
  {
   "cell_type": "markdown",
   "id": "a652ab9f",
   "metadata": {
    "id": "a652ab9f"
   },
   "source": [
    "## Playing the Game"
   ]
  },
  {
   "cell_type": "markdown",
   "id": "45fd15f0",
   "metadata": {
    "id": "45fd15f0"
   },
   "source": [
    "### Choosing your hero\n",
    "\n",
    "At the start of the game, players are usually asked to choose their *character*'s starting role, race, gender and religious alignment. From the [NetHack Wiki](https://nethackwiki.com/wiki/Player):\n",
    "\n",
    "> The player character can be any one of the following roles: archeologist, barbarian, cave[wo]man, healer, knight, monk, priest[ess], ranger, rogue, samurai, tourist, valkyrie, or wizard. They each have varying difficulties, strengths, weaknesses, quests and starting items. \n",
    ">\n",
    "> The player can also choose from the five races: human, elf, dwarf, gnome, or orc, and the three alignments: lawful, neutral or chaotic. The available races and alignments are dependent on the role one picks.\n",
    "\n",
    "\n",
    "Each different starting combination will alter the game experience, and thus impact the difficulty of the game and the most suitable strategy. For example, wizards start with magic and magical items, while rangers begin with a bow and arrow; elves are generally intelligent whereas dwarves will be strong! \n",
    "\n",
    "It's worth noting these different starting characters can really affect the performance of agents learning to play the game. In the original NLE paper, agents on the Score task (most similar to the NetHack Challenge) averaged 738 for monk, 538 for valkyrie, 314 for wizard - but only 11 for tourist! For the purposes of the NetHack Challenge, the character is randomized during evaluation for the competition, so it is likely wise to consider agents that can perform well across a variety of hero configurations."
   ]
  },
  {
   "cell_type": "markdown",
   "id": "1e8bc401",
   "metadata": {
    "id": "1e8bc401"
   },
   "source": [
    "### Complex Observations\n",
    "\n",
    "One of the many challenges of NetHack is the richness of the observation space, with fully-formed dungeon, message line and stats bar all rendered as ascii text!  Every character (and color) in the dungeon has a symbolic meaning - whether its a [Monster](https://nethackwiki.com/wiki/Monster#Canonical_list_of_monsters), [Item](https://nethackwiki.com/wiki/Item), or just a part of the [Dungeon](https://nethackwiki.com/wiki/Dungeon_feature) itself.\n",
    "\n",
    "![](https://drive.google.com/uc?export=view&id=1bu3ZkDNpeylipP902Ak8gk_MlttRpBu2)\n",
    "\n",
    "#### Dungeon\n",
    "\n",
    "The dungeon is the main part of the screen the character navigates.  The most frequently seen symbols are:\n",
    "* `@` : You\n",
    "* `.` : Dungeon Floor\n",
    "* `<` and `>` : Stairs up and down\n",
    "* `|` and `-` : Walls\n",
    "* `+` : Doors\n",
    "\n",
    "While it is also common to see Fountains: `{`, Traps: `^`, Altars: `_` and Hallways: `#`.\n",
    "\n",
    "#### Items\n",
    "NetHack has a [vast number of items](https://nethackwiki.com/wiki/Item) for in-game use, and many objects can be picked up and included in inventory. Once included, the agent can choose to use them in a number of different ways - often with some imaginative consequences: you can `apply` a towel to a weapon to clean off grease, but you can `wear` it too (it will wrap around your head)!\n",
    "\n",
    "Heros will need to use items as best as possible to navigate the dungeons, not least in finding fresh food to eat (unless they can find a [different way](https://nethackwiki.com/wiki/Prayer) to stave off hunger)...\n",
    "\n"
   ]
  },
  {
   "cell_type": "markdown",
   "id": "143f1ca8",
   "metadata": {
    "id": "143f1ca8"
   },
   "source": [
    "#### Monsters!\n",
    "\n",
    "A key component of the difficulty of NetHack (and the cause of many heroic deaths) is the presence of [monsters](https://nethackwiki.com/wiki/Monster#Canonical_list_of_monsters). Throughout the game the hero will encounter many of the hundreds of different types of monsters, ranging from simple jackals which can be trivially defeated to other, more challenging obstacles that typically require significant thought to overcome. \n",
    "\n",
    "For instance, if you walk into a Floating Eye (blue `e`) you will become paralyzed and probably die - this is common for even experienced players who lose concentration! To kill one, the hero can: make use of ranged weapons; blind themselves to avoid looking it at it; become invisible so as not to be seen by it; wear a ring of free action (preventing paralysis); or possess a source reflection (thus reflecting the gaze). Got all that? \n",
    "\n",
    "What makes this a little tricker is that many of the most challenging monsters may be seen infrequently, potentially only being encountered once across multiple games. Thus, while it is possible to memorize a strategy for a handful or even dozens of monsters, it only takes one to slip through the cracks of memory before it is back to the beginning of the game. "
   ]
  },
  {
   "cell_type": "markdown",
   "id": "b449cc83",
   "metadata": {
    "id": "b449cc83"
   },
   "source": [
    "#### Taking Actions\n",
    "\n",
    "In order to make the vast array of complex skills possible to achieve, NetHack has a large action space (referred to as `commands`). The game of NetHack takes inputs directly corresponding to keys on the keyboard, including modifiers such as ctrl, shift and meta. The [full list of commands](https://nethackwiki.com/wiki/Commands_(by_key)) is extensive, including both actions, and meta-commands such as help, or viewing the inventory.\n",
    "\n",
    "For the NetHack Challenge we provide an action space that is as close to full set of commands as possible - blocking only a few commands like modifying option settings. This should provide a significant challenge to all AI agents, while also offering them the potential to fully master the game. We note that it may be worthwhile to constrain this with some inductive bias, possibly even considering a curriculum of [increasing action space](http://proceedings.mlr.press/v119/farquhar20a.html). "
   ]
  },
  {
   "cell_type": "markdown",
   "id": "85bfc579",
   "metadata": {
    "id": "85bfc579"
   },
   "source": [
    "#### Structure of the NetHack world\n",
    "\n",
    "The collective name for all levels of the game is the \"Mazes of Menace\". Your heor starts on the inital Dungeons of Doom, which is above the underworld Gehennom and below the five Planes which form the final stages of the game.\n",
    "\n",
    "The Dungeons also contain various branches, the locations of which are often randomized. For example, the Gnomish Mines will always be generated between dungeon levels 2-4. There is also a Sokoban branch, located between levels 2-9. In order to reach the Amulet (and win the game), adventurers must complete the Quest, another branch, the location of which varies depending on the role. \n",
    "\n",
    "This is just a brief foray into the details of the game, for more detail on the Mazes of Menace see the [nethackwiki page](https://nethackwiki.com/wiki/Mazes_of_Menace). "
   ]
  },
  {
   "cell_type": "markdown",
   "id": "bc29bf70",
   "metadata": {
    "id": "bc29bf70"
   },
   "source": [
    "# What is the NetHack Learning Environment (NLE)\n",
    "\n",
    "The NLE is the OpenAI Gym environment which provides researchers with the ability to train agents on the game of NetHack, presented at NeurIPS 2020.\n",
    "\n",
    "### `NetHackChallenge-v0`\n",
    "\n",
    "The NLE contains different NetHack based tasks for agent training, but a new environment has been created especially for the competition: 'NetHackChallenge-v0'. The new environment is based on the 'NetHackScore-v0' task used in the NeurIPS paper, but contains some key modifications to bring out the full experience of NetHack. These are:\n",
    "* The action space of the environment is greatly expanded to allow all keys on the keyboard\n",
    "* Menus, yes/no questions, cursor-movement, and text-input modalities are enabled.\n",
    "* A random character (represented as '@' ) instead of a single default (eg 'mon-hum-neu-mal')\n",
    "\n",
    "This makes the game particularly challenging, while also providing additional opportunity for savvy agents!\n",
    "\n",
    "NLE is loaded as a gym environment, with all the typical functions that reinforcement learning (RL) researchers will be familiar with. For those using a symbolic approach, this means we typically follow the following few steps:\n",
    "\n",
    "```python\n",
    "obs = env.reset() # produces the first observation\n",
    "done = False # initialize this so we know when episode ends\n",
    "total_reward = 0 # total reward\n",
    "while not done:\n",
    "    action = agent.act(obs) # action processes observation and computes an action\n",
    "    obs, reward, done, info = env.step(action) # updates the new observation and provides the reward/done\n",
    "    total_reward += reward # keep track of cumulative reward\n",
    "```\n",
    "\n",
    "When the episode is over (very likely YASD) the total_reward will be the score of the agent, used for training RL agents, and to get an idea of the current performance for symbolic ones. \n",
    "\n",
    "## Code Examples"
   ]
  },
  {
   "cell_type": "code",
   "execution_count": 2,
   "id": "5a513468",
   "metadata": {
    "executionInfo": {
     "elapsed": 819,
     "status": "ok",
     "timestamp": 1625065264717,
     "user": {
      "displayName": "C.D. Matters",
      "photoUrl": "",
      "userId": "13403307381320921728"
     },
     "user_tz": -60
    },
    "id": "5a513468",
    "scrolled": true
   },
   "outputs": [
    {
     "name": "stdout",
     "output_type": "stream",
     "text": [
      "nh.__file__:  /home/kimbring2/nle/nle/nethack/__init__.py\n"
     ]
    },
    {
     "data": {
      "text/plain": [
       "{'glyphs': array([[2359, 2359, 2359, ..., 2359, 2359, 2359],\n",
       "        [2359, 2359, 2359, ..., 2359, 2359, 2359],\n",
       "        [2359, 2359, 2359, ..., 2359, 2359, 2359],\n",
       "        ...,\n",
       "        [2359, 2359, 2359, ..., 2359, 2359, 2359],\n",
       "        [2359, 2359, 2359, ..., 2359, 2359, 2359],\n",
       "        [2359, 2359, 2359, ..., 2359, 2359, 2359]], dtype=int16),\n",
       " 'chars': array([[32, 32, 32, ..., 32, 32, 32],\n",
       "        [32, 32, 32, ..., 32, 32, 32],\n",
       "        [32, 32, 32, ..., 32, 32, 32],\n",
       "        ...,\n",
       "        [32, 32, 32, ..., 32, 32, 32],\n",
       "        [32, 32, 32, ..., 32, 32, 32],\n",
       "        [32, 32, 32, ..., 32, 32, 32]], dtype=uint8),\n",
       " 'colors': array([[0, 0, 0, ..., 0, 0, 0],\n",
       "        [0, 0, 0, ..., 0, 0, 0],\n",
       "        [0, 0, 0, ..., 0, 0, 0],\n",
       "        ...,\n",
       "        [0, 0, 0, ..., 0, 0, 0],\n",
       "        [0, 0, 0, ..., 0, 0, 0],\n",
       "        [0, 0, 0, ..., 0, 0, 0]], dtype=uint8),\n",
       " 'specials': array([[0, 0, 0, ..., 0, 0, 0],\n",
       "        [0, 0, 0, ..., 0, 0, 0],\n",
       "        [0, 0, 0, ..., 0, 0, 0],\n",
       "        ...,\n",
       "        [0, 0, 0, ..., 0, 0, 0],\n",
       "        [0, 0, 0, ..., 0, 0, 0],\n",
       "        [0, 0, 0, ..., 0, 0, 0]], dtype=uint8),\n",
       " 'blstats': array([   7,   10,   13,   13,    8,   13,   10,   15,   16,    0,   12,\n",
       "          12,    1, 1671,    4,    4,    8,    0,    1,    0,    1,    1,\n",
       "           0,    0,    1,    0,    0]),\n",
       " 'message': array([ 72, 101, 108, 108, 111,  32,  65, 103, 101, 110, 116,  44,  32,\n",
       "        119, 101, 108,  99, 111, 109, 101,  32, 116, 111,  32,  78, 101,\n",
       "        116,  72,  97,  99, 107,  33,  32,  32,  89, 111, 117,  32,  97,\n",
       "        114, 101,  32,  97,  32, 110, 101, 117, 116, 114,  97, 108,  32,\n",
       "        102, 101, 109,  97, 108, 101,  32, 103, 110, 111, 109, 105, 115,\n",
       "        104,  32,  72, 101,  97, 108, 101, 114,  46,   0,   0,   0,   0,\n",
       "          0,   0,   0,   0,   0,   0,   0,   0,   0,   0,   0,   0,   0,\n",
       "          0,   0,   0,   0,   0,   0,   0,   0,   0,   0,   0,   0,   0,\n",
       "          0,   0,   0,   0,   0,   0,   0,   0,   0,   0,   0,   0,   0,\n",
       "          0,   0,   0,   0,   0,   0,   0,   0,   0,   0,   0,   0,   0,\n",
       "          0,   0,   0,   0,   0,   0,   0,   0,   0,   0,   0,   0,   0,\n",
       "          0,   0,   0,   0,   0,   0,   0,   0,   0,   0,   0,   0,   0,\n",
       "          0,   0,   0,   0,   0,   0,   0,   0,   0,   0,   0,   0,   0,\n",
       "          0,   0,   0,   0,   0,   0,   0,   0,   0,   0,   0,   0,   0,\n",
       "          0,   0,   0,   0,   0,   0,   0,   0,   0,   0,   0,   0,   0,\n",
       "          0,   0,   0,   0,   0,   0,   0,   0,   0,   0,   0,   0,   0,\n",
       "          0,   0,   0,   0,   0,   0,   0,   0,   0,   0,   0,   0,   0,\n",
       "          0,   0,   0,   0,   0,   0,   0,   0,   0,   0,   0,   0,   0,\n",
       "          0,   0,   0,   0,   0,   0,   0,   0,   0,   0,   0,   0,   0,\n",
       "          0,   0,   0,   0,   0,   0,   0,   0,   0], dtype=uint8),\n",
       " 'inv_glyphs': array([2316, 1928, 2042, 2118, 2184, 2191, 2301, 2249, 2269, 2266, 2158,\n",
       "        5976, 5976, 5976, 5976, 5976, 5976, 5976, 5976, 5976, 5976, 5976,\n",
       "        5976, 5976, 5976, 5976, 5976, 5976, 5976, 5976, 5976, 5976, 5976,\n",
       "        5976, 5976, 5976, 5976, 5976, 5976, 5976, 5976, 5976, 5976, 5976,\n",
       "        5976, 5976, 5976, 5976, 5976, 5976, 5976, 5976, 5976, 5976, 5976],\n",
       "       dtype=int16),\n",
       " 'inv_strs': array([[ 49,  54,  55, ...,   0,   0,   0],\n",
       "        [ 97,  32,  43, ...,   0,   0,   0],\n",
       "        [ 97, 110,  32, ...,   0,   0,   0],\n",
       "        ...,\n",
       "        [  0,   0,   0, ...,   0,   0,   0],\n",
       "        [  0,   0,   0, ...,   0,   0,   0],\n",
       "        [  0,   0,   0, ...,   0,   0,   0]], dtype=uint8),\n",
       " 'inv_letters': array([ 36,  97,  98,  99, 100, 101, 102, 103, 104, 105, 106,   0,   0,\n",
       "          0,   0,   0,   0,   0,   0,   0,   0,   0,   0,   0,   0,   0,\n",
       "          0,   0,   0,   0,   0,   0,   0,   0,   0,   0,   0,   0,   0,\n",
       "          0,   0,   0,   0,   0,   0,   0,   0,   0,   0,   0,   0,   0,\n",
       "          0,   0,   0], dtype=uint8),\n",
       " 'inv_oclasses': array([12,  2,  3,  6,  8,  8, 11, 10, 10, 10,  7, 18, 18, 18, 18, 18, 18,\n",
       "        18, 18, 18, 18, 18, 18, 18, 18, 18, 18, 18, 18, 18, 18, 18, 18, 18,\n",
       "        18, 18, 18, 18, 18, 18, 18, 18, 18, 18, 18, 18, 18, 18, 18, 18, 18,\n",
       "        18, 18, 18, 18], dtype=uint8),\n",
       " 'tty_chars': array([[ 72, 101, 108, ...,  32,  32,  32],\n",
       "        [ 32,  32,  32, ...,  32,  32,  32],\n",
       "        [ 32,  32,  32, ...,  32,  32,  32],\n",
       "        ...,\n",
       "        [ 32,  32,  32, ...,  32,  32,  32],\n",
       "        [ 65, 103, 101, ...,  32,  32,  32],\n",
       "        [ 68, 108, 118, ...,  32,  32,  32]], dtype=uint8),\n",
       " 'tty_colors': array([[7, 7, 7, ..., 0, 0, 0],\n",
       "        [0, 0, 0, ..., 0, 0, 0],\n",
       "        [0, 0, 0, ..., 0, 0, 0],\n",
       "        ...,\n",
       "        [0, 0, 0, ..., 0, 0, 0],\n",
       "        [7, 7, 7, ..., 0, 0, 0],\n",
       "        [7, 7, 7, ..., 0, 0, 0]], dtype=int8),\n",
       " 'tty_cursor': array([11,  7], dtype=uint8),\n",
       " 'misc': array([0, 0, 0], dtype=int32)}"
      ]
     },
     "execution_count": 2,
     "metadata": {},
     "output_type": "execute_result"
    }
   ],
   "source": [
    "import nle\n",
    "import gym\n",
    "import nle.visualization.utils as vis_utils\n",
    "import nle.nethack as nh\n",
    "from nle.nethack import actions as A\n",
    "import matplotlib.pyplot as plt\n",
    "import cv2\n",
    "import numpy as np\n",
    "\n",
    "print(\"nh.__file__: \", nh.__file__)\n",
    "\n",
    "env = gym.make(\"NetHackChallenge-v0\", savedir=None) \n",
    "\n",
    "#print(\"env.actions: \", env.actions)\n",
    "#print(\"env.actions.index(A.Command.ATTRIBUTES): \", env.actions.index(A.Command.ATTRIBUTES))\n",
    "env.reset()"
   ]
  },
  {
   "cell_type": "code",
   "execution_count": null,
   "id": "3d422c13",
   "metadata": {
    "colab": {
     "base_uri": "https://localhost:8080/"
    },
    "executionInfo": {
     "elapsed": 59,
     "status": "ok",
     "timestamp": 1625065264777,
     "user": {
      "displayName": "C.D. Matters",
      "photoUrl": "",
      "userId": "13403307381320921728"
     },
     "user_tz": -60
    },
    "id": "3d422c13",
    "outputId": "9ac8ad80-8fdf-4eb4-e58e-ee898115057d",
    "scrolled": false
   },
   "outputs": [
    {
     "name": "stdout",
     "output_type": "stream",
     "text": [
      "obs[0]['inv_strs']:  [[ 49  54  55 ...   0   0   0]\n",
      " [ 97  32  43 ...   0   0   0]\n",
      " [ 97 110  32 ...   0   0   0]\n",
      " ...\n",
      " [  0   0   0 ...   0   0   0]\n",
      " [  0   0   0 ...   0   0   0]\n",
      " [  0   0   0 ...   0   0   0]]\n",
      "item_name:  1671 gold pieces\n",
      "letter:  $\n",
      "category:  12\n",
      "glyph:  2316\n",
      "nh.RANDOM_CLASS:  0\n",
      "item_name:  a +0 scalpel (weapon in hand)\n",
      "letter:  a\n",
      "category:  2\n",
      "glyph:  1928\n",
      "nh.RANDOM_CLASS:  0\n",
      "item_name:  an uncursed +1 pair of leather gloves (being worn)\n",
      "letter:  b\n",
      "category:  3\n",
      "glyph:  2042\n",
      "nh.RANDOM_CLASS:  0\n",
      "item_name:  an uncursed stethoscope\n",
      "letter:  c\n",
      "category:  6\n",
      "glyph:  2118\n",
      "nh.RANDOM_CLASS:  0\n",
      "item_name:  4 uncursed potions of healing\n",
      "letter:  d\n",
      "category:  8\n",
      "glyph:  2184\n",
      "nh.RANDOM_CLASS:  0\n",
      "item_name:  4 uncursed potions of extra healing\n",
      "letter:  e\n",
      "category:  8\n",
      "glyph:  2191\n",
      "nh.RANDOM_CLASS:  0\n",
      "item_name:  a wand of sleep (0:5)\n",
      "letter:  f\n",
      "category:  11\n",
      "glyph:  2301\n",
      "nh.RANDOM_CLASS:  0\n",
      "item_name:  a blessed spellbook of healing\n",
      "letter:  g\n",
      "category:  10\n",
      "glyph:  2249\n",
      "nh.RANDOM_CLASS:  0\n",
      "item_name:  a blessed spellbook of extra healing\n",
      "letter:  h\n",
      "category:  10\n",
      "glyph:  2269\n",
      "nh.RANDOM_CLASS:  0\n",
      "item_name:  a blessed spellbook of stone to flesh\n",
      "letter:  i\n",
      "category:  10\n",
      "glyph:  2266\n",
      "nh.RANDOM_CLASS:  0\n",
      "item_name:  7 uncursed apples\n",
      "letter:  j\n",
      "category:  7\n",
      "glyph:  2158\n",
      "nh.RANDOM_CLASS:  0\n",
      "len(tiles):  11\n"
     ]
    }
   ],
   "source": [
    "#print(\"env.character: \", env.character)\n",
    "obs = env.step(1)  # move agent '@' north\n",
    "#print(\"obs[0].keys(): \", obs[0].keys())\n",
    "#print(\"obs[0]: \", obs[0])\n",
    "message = bytes(obs[0]['message']).decode('ascii')\n",
    "#print(\"message: \", message)\n",
    "\n",
    "print(\"obs[0]['inv_strs']: \", obs[0]['inv_strs'])\n",
    "\n",
    "tty_chars = bytes(obs[0]['tty_chars']).decode('ascii')\n",
    "\n",
    "#misc = obs[0]['misc']\n",
    "#print(\"misc: \", misc)\n",
    "\n",
    "tiles = []\n",
    "for let, glyph, strs, oclass in zip(\n",
    "    obs[0]['inv_letters'], obs[0]['inv_glyphs'], obs[0]['inv_strs'], obs[0]['inv_oclasses']):\n",
    "    #print(\"strs: \", strs)\n",
    "    \n",
    "    item_name = bytes(strs).decode().strip('\\0')\n",
    "    if item_name != \"\":\n",
    "        print(\"item_name: \", item_name)\n",
    "        letter = chr(let)\n",
    "        print(\"letter: \", letter)\n",
    "\n",
    "        print(\"category: \", oclass)\n",
    "        print(\"glyph: \", glyph)\n",
    "\n",
    "        #nh.WEAPON_CLASS:  2\n",
    "        #nh.ARMOR_CLASS:  3\n",
    "        #nh.RING_CLASS:  4\n",
    "        #nh.AMULET_CLASS:  5\n",
    "        #nh.TOOL_CLASS:  6\n",
    "        #nh.FOOD_CLASS:  7\n",
    "        #nh.POTION_CLASS:  8\n",
    "        #nh.SCROLL_CLASS:  9\n",
    "        #nh.SPBOOK_CLASS:  10\n",
    "        #nh.WAND_CLASS:  11\n",
    "        #nh.COIN_CLASS:  12\n",
    "        #nh.GEM_CLASS:  13\n",
    "        #nh.ROCK_CLASS:  14\n",
    "        #nh.BALL_CLASS:  15\n",
    "        \n",
    "        print(\"nh.RANDOM_CLASS: \", nh.RANDOM_CLASS)\n",
    "        '''\n",
    "        if category == nh.RANDOM_CLASS:\n",
    "        \n",
    "        elif category == nh.ILLOBJ_CLASS:\n",
    "        \n",
    "        elif category == nh.WEAPON_CLASS:\n",
    "            \n",
    "        elif category == nh.ARMOR_CLASS:\n",
    "            \n",
    "        elif category == nh.RING_CLASS:\n",
    "            \n",
    "        elif category == nh.AMULET_CLASS:\n",
    "            \n",
    "        elif category == nh.TOOL_CLASS:\n",
    "            \n",
    "        elif category == nh.FOOD_CLASS:\n",
    "            \n",
    "        elif category == nh.POTION_CLASS:\n",
    "            \n",
    "        elif category == nh.SCROLL_CLASS:\n",
    "            \n",
    "        elif category == nh.SPBOOK_CLASS:\n",
    "            \n",
    "        elif category == nh.WAND_CLASS:\n",
    "            \n",
    "        elif category == nh.COIN_CLASS:\n",
    "            \n",
    "        elif category == nh.ROCK_CLASS:\n",
    "            \n",
    "        elif category == nh.BALL_CLASS:\n",
    "        \n",
    "        elif category == nh.VENOM_CLASS:\n",
    "        \n",
    "        elif category == nh.CHAIN_CLASS:\n",
    "        \n",
    "        elif category == nh.CHAIN_CLASS:\n",
    "        \n",
    "        elif category == nh.CHAIN_CLASS:\n",
    "        '''\n",
    "        \n",
    "        #print(\"nh.glyph_is_body(glyph): \", nh.glyph_is_body(glyph))\n",
    "        #print(\"nh.glyph_is_statue(glyph): \", nh.glyph_is_statue(glyph))\n",
    "        \n",
    "        item_tile_idx = vis_utils.glyph2tile[glyph]\n",
    "        item_tile = vis_utils.tileset[item_tile_idx]\n",
    "        item_tile = cv2.cvtColor(item_tile, cv2.COLOR_BGR2RGB)\n",
    "        tiles.append(item_tile)\n",
    "        #cv2.imshow(\"frame\", item_tile)\n",
    "        #cv2.waitKey(0)\n",
    "        #plt.imshow(item_tile)\n",
    "        #plt.show()\n",
    "\n",
    "        #print(\"\")\n",
    "print(\"len(tiles): \", len(tiles))\n",
    "if tiles:    \n",
    "    vis = np.concatenate(tiles, axis=0)\n",
    "    #plt.imshow(vis)\n",
    "    #plt.show()\n",
    "    cv2.imshow(\"vis\", vis)\n",
    "    cv2.waitKey(0)\n",
    "\n",
    "env.render()"
   ]
  },
  {
   "cell_type": "markdown",
   "id": "a7fbc173",
   "metadata": {
    "id": "a7fbc173"
   },
   "source": [
    "The NLE observation contains multiple objects, many of which we receive as keys in the observation dictionary. Let's take a look."
   ]
  },
  {
   "cell_type": "code",
   "execution_count": 12,
   "id": "d8cbc4fd",
   "metadata": {
    "colab": {
     "base_uri": "https://localhost:8080/"
    },
    "executionInfo": {
     "elapsed": 38,
     "status": "ok",
     "timestamp": 1625065264778,
     "user": {
      "displayName": "C.D. Matters",
      "photoUrl": "",
      "userId": "13403307381320921728"
     },
     "user_tz": -60
    },
    "id": "d8cbc4fd",
    "outputId": "6adc22c2-9bba-4976-b08a-f99fddf347f9"
   },
   "outputs": [
    {
     "data": {
      "text/plain": [
       "dict_keys(['glyphs', 'chars', 'colors', 'specials', 'blstats', 'message', 'inv_glyphs', 'inv_strs', 'inv_letters', 'inv_oclasses', 'screen_descriptions', 'tty_chars', 'tty_colors', 'tty_cursor'])"
      ]
     },
     "execution_count": 12,
     "metadata": {},
     "output_type": "execute_result"
    }
   ],
   "source": [
    "obs = env.reset()\n",
    "obs.keys()"
   ]
  },
  {
   "cell_type": "markdown",
   "id": "68223810",
   "metadata": {
    "id": "68223810"
   },
   "source": [
    "#### Observing the Dungeon\n",
    "\n",
    "The elements **`glyphs`**, **`chars`**, **`colors`**, and **`specials`** are tensors representing the (batched) 2D symbolic observation of the dungeon. Our agents primarily use the first three.\n",
    "\n",
    "* **`glyphs`** - are the single integers representing the specific object at a square in the dungeon (eg a pet hell-hound)\n",
    "* **`chars`** - are the characters used to render the glyphs on the screen (eg `d`)\n",
    "* **`colors`** - are the colors used to render the glyphs on the screen (eg red)\n",
    "* **`specials`** - are any special modifications to render the glyphs on the screen (eg it's a pet!)\n"
   ]
  },
  {
   "cell_type": "code",
   "execution_count": 5,
   "id": "7c8649d5",
   "metadata": {
    "colab": {
     "base_uri": "https://localhost:8080/"
    },
    "executionInfo": {
     "elapsed": 16,
     "status": "ok",
     "timestamp": 1625065264778,
     "user": {
      "displayName": "C.D. Matters",
      "photoUrl": "",
      "userId": "13403307381320921728"
     },
     "user_tz": -60
    },
    "id": "7c8649d5",
    "outputId": "b3d38d30-3a60-4bb6-db83-b71e2a6875ef"
   },
   "outputs": [
    {
     "name": "stdout",
     "output_type": "stream",
     "text": [
      "\n",
      "glyphs:\n",
      "\n",
      "Shape: (21, 79)\n",
      "\n",
      "[[2359 2359 2359 ... 2359 2359 2359]\n",
      " [2359 2359 2359 ... 2359 2359 2359]\n",
      " [2359 2359 2359 ... 2359 2359 2359]\n",
      " ...\n",
      " [2359 2359 2359 ... 2359 2359 2359]\n",
      " [2359 2359 2359 ... 2359 2359 2359]\n",
      " [2359 2359 2359 ... 2359 2359 2359]]\n",
      "\n",
      "chars:\n",
      "\n",
      "Shape: (21, 79)\n",
      "\n",
      "[[32 32 32 ... 32 32 32]\n",
      " [32 32 32 ... 32 32 32]\n",
      " [32 32 32 ... 32 32 32]\n",
      " ...\n",
      " [32 32 32 ... 32 32 32]\n",
      " [32 32 32 ... 32 32 32]\n",
      " [32 32 32 ... 32 32 32]]\n",
      "\n",
      "colors:\n",
      "\n",
      "Shape: (21, 79)\n",
      "\n",
      "[[0 0 0 ... 0 0 0]\n",
      " [0 0 0 ... 0 0 0]\n",
      " [0 0 0 ... 0 0 0]\n",
      " ...\n",
      " [0 0 0 ... 0 0 0]\n",
      " [0 0 0 ... 0 0 0]\n",
      " [0 0 0 ... 0 0 0]]\n"
     ]
    }
   ],
   "source": [
    "for key in ['glyphs', 'chars', 'colors']:\n",
    "    print(\"\\n{}:\\n\".format(key))\n",
    "    print(\"Shape: {}\\n\".format(obs[key].shape))\n",
    "    print(obs[key])"
   ]
  },
  {
   "cell_type": "markdown",
   "id": "ab199a8b",
   "metadata": {
    "id": "ab199a8b"
   },
   "source": [
    "#### BLStats and Message\n",
    "\n",
    "Along the top of the screen is a topline message that the game uses to communicate with you. Paying close attention to what the game can often result in the difference between life and death!  The encoding of this message is presented in the observation **`message`**\n",
    "\n",
    "Also of interest are the stats along the bottom line of the screen. These are extract in  **`blstats`** and contain a lot of useful infomation visible below.\n"
   ]
  },
  {
   "cell_type": "code",
   "execution_count": 6,
   "id": "36b8f0b0",
   "metadata": {
    "colab": {
     "base_uri": "https://localhost:8080/"
    },
    "executionInfo": {
     "elapsed": 16,
     "status": "ok",
     "timestamp": 1625065264779,
     "user": {
      "displayName": "C.D. Matters",
      "photoUrl": "",
      "userId": "13403307381320921728"
     },
     "user_tz": -60
    },
    "id": "36b8f0b0",
    "outputId": "fb8717bd-3483-4c52-d015-1b5b741bff43"
   },
   "outputs": [
    {
     "name": "stdout",
     "output_type": "stream",
     "text": [
      "\n",
      "\u001b[0;37;40mA\u001b[0;37;40ml\u001b[0;37;40mo\u001b[0;37;40mh\u001b[0;37;40ma\u001b[0;30;40m \u001b[0;37;40mA\u001b[0;37;40mg\u001b[0;37;40me\u001b[0;37;40mn\u001b[0;37;40mt\u001b[0;37;40m,\u001b[0;30;40m \u001b[0;37;40mw\u001b[0;37;40me\u001b[0;37;40ml\u001b[0;37;40mc\u001b[0;37;40mo\u001b[0;37;40mm\u001b[0;37;40me\u001b[0;30;40m \u001b[0;37;40mt\u001b[0;37;40mo\u001b[0;30;40m \u001b[0;37;40mN\u001b[0;37;40me\u001b[0;37;40mt\u001b[0;37;40mH\u001b[0;37;40ma\u001b[0;37;40mc\u001b[0;37;40mk\u001b[0;37;40m!\u001b[0;30;40m \u001b[0;30;40m \u001b[0;37;40mY\u001b[0;37;40mo\u001b[0;37;40mu\u001b[0;30;40m \u001b[0;37;40ma\u001b[0;37;40mr\u001b[0;37;40me\u001b[0;30;40m \u001b[0;37;40ma\u001b[0;30;40m \u001b[0;37;40mn\u001b[0;37;40me\u001b[0;37;40mu\u001b[0;37;40mt\u001b[0;37;40mr\u001b[0;37;40ma\u001b[0;37;40ml\u001b[0;30;40m \u001b[0;37;40mf\u001b[0;37;40me\u001b[0;37;40mm\u001b[0;37;40ma\u001b[0;37;40ml\u001b[0;37;40me\u001b[0;30;40m \u001b[0;37;40mh\u001b[0;37;40mu\u001b[0;37;40mm\u001b[0;37;40ma\u001b[0;37;40mn\u001b[0;30;40m \u001b[0;37;40mT\u001b[0;37;40mo\u001b[0;37;40mu\u001b[0;37;40mr\u001b[0;37;40mi\u001b[0;37;40ms\u001b[0;37;40mt\u001b[0;37;40m.\u001b[0;30;40m \u001b[0;30;40m \u001b[0;30;40m \u001b[0;30;40m \u001b[0;30;40m \u001b[0;30;40m \u001b[0;30;40m \n",
      "\u001b[0;30;40m \u001b[0;30;40m \u001b[0;30;40m \u001b[0;30;40m \u001b[0;30;40m \u001b[0;30;40m \u001b[0;30;40m \u001b[0;30;40m \u001b[0;30;40m \u001b[0;30;40m \u001b[0;30;40m \u001b[0;30;40m \u001b[0;30;40m \u001b[0;30;40m \u001b[0;30;40m \u001b[0;30;40m \u001b[0;30;40m \u001b[0;30;40m \u001b[0;30;40m \u001b[0;30;40m \u001b[0;30;40m \u001b[0;30;40m \u001b[0;30;40m \u001b[0;30;40m \u001b[0;30;40m \u001b[0;30;40m \u001b[0;30;40m \u001b[0;30;40m \u001b[0;30;40m \u001b[0;30;40m \u001b[0;30;40m \u001b[0;30;40m \u001b[0;30;40m \u001b[0;30;40m \u001b[0;30;40m \u001b[0;30;40m \u001b[0;30;40m \u001b[0;30;40m \u001b[0;30;40m \u001b[0;30;40m \u001b[0;30;40m \u001b[0;30;40m \u001b[0;30;40m \u001b[0;30;40m \u001b[0;30;40m \u001b[0;30;40m \u001b[0;30;40m \u001b[0;30;40m \u001b[0;30;40m \u001b[0;30;40m \u001b[0;30;40m \u001b[0;30;40m \u001b[0;30;40m \u001b[0;30;40m \u001b[0;30;40m \u001b[0;30;40m \u001b[0;30;40m \u001b[0;30;40m \u001b[0;30;40m \u001b[0;30;40m \u001b[0;30;40m \u001b[0;30;40m \u001b[0;30;40m \u001b[0;30;40m \u001b[0;30;40m \u001b[0;30;40m \u001b[0;30;40m \u001b[0;30;40m \u001b[0;30;40m \u001b[0;30;40m \u001b[0;30;40m \u001b[0;30;40m \u001b[0;30;40m \u001b[0;30;40m \u001b[0;30;40m \u001b[0;30;40m \u001b[0;30;40m \u001b[0;30;40m \u001b[0;30;40m \u001b[0;30;40m \n",
      "\u001b[0;30;40m \u001b[0;30;40m \u001b[0;30;40m \u001b[0;30;40m \u001b[0;30;40m \u001b[0;30;40m \u001b[0;30;40m \u001b[0;30;40m \u001b[0;30;40m \u001b[0;30;40m \u001b[0;30;40m \u001b[0;30;40m \u001b[0;30;40m \u001b[0;30;40m \u001b[0;30;40m \u001b[0;30;40m \u001b[0;30;40m \u001b[0;30;40m \u001b[0;30;40m \u001b[0;30;40m \u001b[0;30;40m \u001b[0;30;40m \u001b[0;30;40m \u001b[0;30;40m \u001b[0;30;40m \u001b[0;30;40m \u001b[0;30;40m \u001b[0;30;40m \u001b[0;30;40m \u001b[0;30;40m \u001b[0;30;40m \u001b[0;30;40m \u001b[0;30;40m \u001b[0;30;40m \u001b[0;30;40m \u001b[0;30;40m \u001b[0;30;40m \u001b[0;30;40m \u001b[0;30;40m \u001b[0;30;40m \u001b[0;30;40m \u001b[0;30;40m \u001b[0;30;40m \u001b[0;30;40m \u001b[0;30;40m \u001b[0;30;40m \u001b[0;30;40m \u001b[0;30;40m \u001b[0;30;40m \u001b[0;30;40m \u001b[0;30;40m \u001b[0;30;40m \u001b[0;30;40m \u001b[0;30;40m \u001b[0;30;40m \u001b[0;30;40m \u001b[0;30;40m \u001b[0;30;40m \u001b[0;30;40m \u001b[0;30;40m \u001b[0;30;40m \u001b[0;30;40m \u001b[0;30;40m \u001b[0;30;40m \u001b[0;30;40m \u001b[0;30;40m \u001b[0;30;40m \u001b[0;30;40m \u001b[0;30;40m \u001b[0;30;40m \u001b[0;30;40m \u001b[0;30;40m \u001b[0;30;40m \u001b[0;30;40m \u001b[0;30;40m \u001b[0;30;40m \u001b[0;30;40m \u001b[0;30;40m \u001b[0;30;40m \u001b[0;30;40m \n",
      "\u001b[0;30;40m \u001b[0;30;40m \u001b[0;30;40m \u001b[0;30;40m \u001b[0;30;40m \u001b[0;30;40m \u001b[0;30;40m \u001b[0;30;40m \u001b[0;30;40m \u001b[0;30;40m \u001b[0;30;40m \u001b[0;30;40m \u001b[0;30;40m \u001b[0;30;40m \u001b[0;30;40m \u001b[0;30;40m \u001b[0;30;40m \u001b[0;30;40m \u001b[0;30;40m \u001b[0;30;40m \u001b[0;30;40m \u001b[0;30;40m \u001b[0;30;40m \u001b[0;30;40m \u001b[0;30;40m \u001b[0;30;40m \u001b[0;30;40m \u001b[0;30;40m \u001b[0;30;40m \u001b[0;30;40m \u001b[0;30;40m \u001b[0;30;40m \u001b[0;30;40m \u001b[0;30;40m \u001b[0;30;40m \u001b[0;30;40m \u001b[0;30;40m \u001b[0;30;40m \u001b[0;30;40m \u001b[0;30;40m \u001b[0;30;40m \u001b[0;30;40m \u001b[0;30;40m \u001b[0;30;40m \u001b[0;30;40m \u001b[0;30;40m \u001b[0;30;40m \u001b[0;30;40m \u001b[0;30;40m \u001b[0;30;40m \u001b[0;30;40m \u001b[0;30;40m \u001b[0;30;40m \u001b[0;30;40m \u001b[0;30;40m \u001b[0;30;40m \u001b[0;30;40m \u001b[0;30;40m \u001b[0;30;40m \u001b[0;30;40m \u001b[0;30;40m \u001b[0;30;40m \u001b[0;30;40m \u001b[0;30;40m \u001b[0;30;40m \u001b[0;30;40m \u001b[0;30;40m \u001b[0;30;40m \u001b[0;30;40m \u001b[0;30;40m \u001b[0;30;40m \u001b[0;30;40m \u001b[0;30;40m \u001b[0;30;40m \u001b[0;30;40m \u001b[0;30;40m \u001b[0;30;40m \u001b[0;30;40m \u001b[0;30;40m \u001b[0;30;40m \n",
      "\u001b[0;30;40m \u001b[0;30;40m \u001b[0;30;40m \u001b[0;30;40m \u001b[0;30;40m \u001b[0;30;40m \u001b[0;30;40m \u001b[0;30;40m \u001b[0;30;40m \u001b[0;30;40m \u001b[0;30;40m \u001b[0;30;40m \u001b[0;30;40m \u001b[0;30;40m \u001b[0;30;40m \u001b[0;30;40m \u001b[0;30;40m \u001b[0;30;40m \u001b[0;30;40m \u001b[0;30;40m \u001b[0;30;40m \u001b[0;30;40m \u001b[0;30;40m \u001b[0;30;40m \u001b[0;30;40m \u001b[0;30;40m \u001b[0;30;40m \u001b[0;30;40m \u001b[0;30;40m \u001b[0;30;40m \u001b[0;30;40m \u001b[0;30;40m \u001b[0;30;40m \u001b[0;30;40m \u001b[0;30;40m \u001b[0;30;40m \u001b[0;30;40m \u001b[0;30;40m \u001b[0;30;40m \u001b[0;30;40m \u001b[0;30;40m \u001b[0;30;40m \u001b[0;30;40m \u001b[0;30;40m \u001b[0;30;40m \u001b[0;30;40m \u001b[0;30;40m \u001b[0;30;40m \u001b[0;30;40m \u001b[0;30;40m \u001b[0;30;40m \u001b[0;30;40m \u001b[0;30;40m \u001b[0;30;40m \u001b[0;30;40m \u001b[0;30;40m \u001b[0;30;40m \u001b[0;30;40m \u001b[0;30;40m \u001b[0;30;40m \u001b[0;30;40m \u001b[0;30;40m \u001b[0;30;40m \u001b[0;30;40m \u001b[0;30;40m \u001b[0;30;40m \u001b[0;30;40m \u001b[0;30;40m \u001b[0;30;40m \u001b[0;30;40m \u001b[0;30;40m \u001b[0;30;40m \u001b[0;30;40m \u001b[0;30;40m \u001b[0;30;40m \u001b[0;30;40m \u001b[0;30;40m \u001b[0;30;40m \u001b[0;30;40m \u001b[0;30;40m \n",
      "\u001b[0;30;40m \u001b[0;30;40m \u001b[0;30;40m \u001b[0;30;40m \u001b[0;30;40m \u001b[0;30;40m \u001b[0;30;40m \u001b[0;30;40m \u001b[0;30;40m \u001b[0;30;40m \u001b[0;30;40m \u001b[0;30;40m \u001b[0;30;40m \u001b[0;30;40m \u001b[0;30;40m \u001b[0;30;40m \u001b[0;30;40m \u001b[0;30;40m \u001b[0;30;40m \u001b[0;30;40m \u001b[0;30;40m \u001b[0;30;40m \u001b[0;30;40m \u001b[0;30;40m \u001b[0;30;40m \u001b[0;30;40m \u001b[0;30;40m \u001b[0;30;40m \u001b[0;30;40m \u001b[0;30;40m \u001b[0;30;40m \u001b[0;30;40m \u001b[0;30;40m \u001b[0;30;40m \u001b[0;30;40m \u001b[0;30;40m \u001b[0;30;40m \u001b[0;30;40m \u001b[0;30;40m \u001b[0;30;40m \u001b[0;30;40m \u001b[0;30;40m \u001b[0;30;40m \u001b[0;30;40m \u001b[0;30;40m \u001b[0;30;40m \u001b[0;30;40m \u001b[0;30;40m \u001b[0;30;40m \u001b[0;30;40m \u001b[0;30;40m \u001b[0;30;40m \u001b[0;30;40m \u001b[0;30;40m \u001b[0;30;40m \u001b[0;30;40m \u001b[0;30;40m \u001b[0;30;40m \u001b[0;30;40m \u001b[0;30;40m \u001b[0;30;40m \u001b[0;30;40m \u001b[0;30;40m \u001b[0;30;40m \u001b[0;30;40m \u001b[0;30;40m \u001b[0;30;40m \u001b[0;30;40m \u001b[0;30;40m \u001b[0;30;40m \u001b[0;30;40m \u001b[0;30;40m \u001b[0;30;40m \u001b[0;30;40m \u001b[0;30;40m \u001b[0;30;40m \u001b[0;30;40m \u001b[0;30;40m \u001b[0;30;40m \u001b[0;30;40m \n",
      "\u001b[0;30;40m \u001b[0;30;40m \u001b[0;30;40m \u001b[0;30;40m \u001b[0;30;40m \u001b[0;30;40m \u001b[0;30;40m \u001b[0;30;40m \u001b[0;30;40m \u001b[0;30;40m \u001b[0;30;40m \u001b[0;30;40m \u001b[0;30;40m \u001b[0;30;40m \u001b[0;30;40m \u001b[0;30;40m \u001b[0;30;40m \u001b[0;30;40m \u001b[0;30;40m \u001b[0;30;40m \u001b[0;30;40m \u001b[0;30;40m \u001b[0;30;40m \u001b[0;30;40m \u001b[0;30;40m \u001b[0;30;40m \u001b[0;30;40m \u001b[0;30;40m \u001b[0;30;40m \u001b[0;30;40m \u001b[0;30;40m \u001b[0;30;40m \u001b[0;30;40m \u001b[0;30;40m \u001b[0;30;40m \u001b[0;30;40m \u001b[0;30;40m \u001b[0;30;40m \u001b[0;30;40m \u001b[0;30;40m \u001b[0;30;40m \u001b[0;30;40m \u001b[0;30;40m \u001b[0;30;40m \u001b[0;30;40m \u001b[0;30;40m \u001b[0;30;40m \u001b[0;30;40m \u001b[0;30;40m \u001b[0;30;40m \u001b[0;30;40m \u001b[0;30;40m \u001b[0;30;40m \u001b[0;30;40m \u001b[0;30;40m \u001b[0;30;40m \u001b[0;30;40m \u001b[0;30;40m \u001b[0;30;40m \u001b[0;30;40m \u001b[0;30;40m \u001b[0;30;40m \u001b[0;30;40m \u001b[0;30;40m \u001b[0;30;40m \u001b[0;30;40m \u001b[0;30;40m \u001b[0;30;40m \u001b[0;30;40m \u001b[0;30;40m \u001b[0;30;40m \u001b[0;30;40m \u001b[0;30;40m \u001b[0;30;40m \u001b[0;30;40m \u001b[0;30;40m \u001b[0;30;40m \u001b[0;30;40m \u001b[0;30;40m \u001b[0;30;40m \n",
      "\u001b[0;30;40m \u001b[0;30;40m \u001b[0;30;40m \u001b[0;30;40m \u001b[0;30;40m \u001b[0;30;40m \u001b[0;30;40m \u001b[0;30;40m \u001b[0;30;40m \u001b[0;30;40m \u001b[0;30;40m \u001b[0;30;40m \u001b[0;30;40m \u001b[0;30;40m \u001b[0;30;40m \u001b[0;30;40m \u001b[0;30;40m \u001b[0;30;40m \u001b[0;30;40m \u001b[0;30;40m \u001b[0;30;40m \u001b[0;30;40m \u001b[0;30;40m \u001b[0;30;40m \u001b[0;30;40m \u001b[0;30;40m \u001b[0;30;40m \u001b[0;30;40m \u001b[0;30;40m \u001b[0;30;40m \u001b[0;30;40m \u001b[0;30;40m \u001b[0;30;40m \u001b[0;30;40m \u001b[0;30;40m \u001b[0;30;40m \u001b[0;30;40m \u001b[0;30;40m \u001b[0;30;40m \u001b[0;30;40m \u001b[0;30;40m \u001b[0;30;40m \u001b[0;30;40m \u001b[0;30;40m \u001b[0;30;40m \u001b[0;37;40m-\u001b[0;37;40m-\u001b[0;37;40m-\u001b[0;37;40m-\u001b[0;37;40m-\u001b[0;30;40m \u001b[0;30;40m \u001b[0;30;40m \u001b[0;30;40m \u001b[0;30;40m \u001b[0;30;40m \u001b[0;30;40m \u001b[0;30;40m \u001b[0;30;40m \u001b[0;30;40m \u001b[0;30;40m \u001b[0;30;40m \u001b[0;30;40m \u001b[0;30;40m \u001b[0;30;40m \u001b[0;30;40m \u001b[0;30;40m \u001b[0;30;40m \u001b[0;30;40m \u001b[0;30;40m \u001b[0;30;40m \u001b[0;30;40m \u001b[0;30;40m \u001b[0;30;40m \u001b[0;30;40m \u001b[0;30;40m \u001b[0;30;40m \u001b[0;30;40m \u001b[0;30;40m \u001b[0;30;40m \n",
      "\u001b[0;30;40m \u001b[0;30;40m \u001b[0;30;40m \u001b[0;30;40m \u001b[0;30;40m \u001b[0;30;40m \u001b[0;30;40m \u001b[0;30;40m \u001b[0;30;40m \u001b[0;30;40m \u001b[0;30;40m \u001b[0;30;40m \u001b[0;30;40m \u001b[0;30;40m \u001b[0;30;40m \u001b[0;30;40m \u001b[0;30;40m \u001b[0;30;40m \u001b[0;30;40m \u001b[0;30;40m \u001b[0;30;40m \u001b[0;30;40m \u001b[0;30;40m \u001b[0;30;40m \u001b[0;30;40m \u001b[0;30;40m \u001b[0;30;40m \u001b[0;30;40m \u001b[0;30;40m \u001b[0;30;40m \u001b[0;30;40m \u001b[0;30;40m \u001b[0;30;40m \u001b[0;30;40m \u001b[0;30;40m \u001b[0;30;40m \u001b[0;30;40m \u001b[0;30;40m \u001b[0;30;40m \u001b[0;30;40m \u001b[0;30;40m \u001b[0;30;40m \u001b[0;30;40m \u001b[0;30;40m \u001b[0;30;40m \u001b[0;37;40m|\u001b[1;37;40m@\u001b[0;37;40m.\u001b[0;31;40m%\u001b[0;37;40m|\u001b[0;30;40m \u001b[0;30;40m \u001b[0;30;40m \u001b[0;30;40m \u001b[0;30;40m \u001b[0;30;40m \u001b[0;30;40m \u001b[0;30;40m \u001b[0;30;40m \u001b[0;30;40m \u001b[0;30;40m \u001b[0;30;40m \u001b[0;30;40m \u001b[0;30;40m \u001b[0;30;40m \u001b[0;30;40m \u001b[0;30;40m \u001b[0;30;40m \u001b[0;30;40m \u001b[0;30;40m \u001b[0;30;40m \u001b[0;30;40m \u001b[0;30;40m \u001b[0;30;40m \u001b[0;30;40m \u001b[0;30;40m \u001b[0;30;40m \u001b[0;30;40m \u001b[0;30;40m \u001b[0;30;40m \n",
      "\u001b[0;30;40m \u001b[0;30;40m \u001b[0;30;40m \u001b[0;30;40m \u001b[0;30;40m \u001b[0;30;40m \u001b[0;30;40m \u001b[0;30;40m \u001b[0;30;40m \u001b[0;30;40m \u001b[0;30;40m \u001b[0;30;40m \u001b[0;30;40m \u001b[0;30;40m \u001b[0;30;40m \u001b[0;30;40m \u001b[0;30;40m \u001b[0;30;40m \u001b[0;30;40m \u001b[0;30;40m \u001b[0;30;40m \u001b[0;30;40m \u001b[0;30;40m \u001b[0;30;40m \u001b[0;30;40m \u001b[0;30;40m \u001b[0;30;40m \u001b[0;30;40m \u001b[0;30;40m \u001b[0;30;40m \u001b[0;30;40m \u001b[0;30;40m \u001b[0;30;40m \u001b[0;30;40m \u001b[0;30;40m \u001b[0;30;40m \u001b[0;30;40m \u001b[0;30;40m \u001b[0;30;40m \u001b[0;30;40m \u001b[0;30;40m \u001b[0;30;40m \u001b[0;30;40m \u001b[0;30;40m \u001b[0;30;40m \u001b[0;37;40m|\u001b[1;37;40mf\u001b[0;37;40m.\u001b[0;37;40m.\u001b[0;33;40m+\u001b[0;30;40m \u001b[0;30;40m \u001b[0;30;40m \u001b[0;30;40m \u001b[0;30;40m \u001b[0;30;40m \u001b[0;30;40m \u001b[0;30;40m \u001b[0;30;40m \u001b[0;30;40m \u001b[0;30;40m \u001b[0;30;40m \u001b[0;30;40m \u001b[0;30;40m \u001b[0;30;40m \u001b[0;30;40m \u001b[0;30;40m \u001b[0;30;40m \u001b[0;30;40m \u001b[0;30;40m \u001b[0;30;40m \u001b[0;30;40m \u001b[0;30;40m \u001b[0;30;40m \u001b[0;30;40m \u001b[0;30;40m \u001b[0;30;40m \u001b[0;30;40m \u001b[0;30;40m \u001b[0;30;40m \n",
      "\u001b[0;30;40m \u001b[0;30;40m \u001b[0;30;40m \u001b[0;30;40m \u001b[0;30;40m \u001b[0;30;40m \u001b[0;30;40m \u001b[0;30;40m \u001b[0;30;40m \u001b[0;30;40m \u001b[0;30;40m \u001b[0;30;40m \u001b[0;30;40m \u001b[0;30;40m \u001b[0;30;40m \u001b[0;30;40m \u001b[0;30;40m \u001b[0;30;40m \u001b[0;30;40m \u001b[0;30;40m \u001b[0;30;40m \u001b[0;30;40m \u001b[0;30;40m \u001b[0;30;40m \u001b[0;30;40m \u001b[0;30;40m \u001b[0;30;40m \u001b[0;30;40m \u001b[0;30;40m \u001b[0;30;40m \u001b[0;30;40m \u001b[0;30;40m \u001b[0;30;40m \u001b[0;30;40m \u001b[0;30;40m \u001b[0;30;40m \u001b[0;30;40m \u001b[0;30;40m \u001b[0;30;40m \u001b[0;30;40m \u001b[0;30;40m \u001b[0;30;40m \u001b[0;30;40m \u001b[0;30;40m \u001b[0;30;40m \u001b[0;33;40m+\u001b[0;37;40m.\u001b[0;37;40m.\u001b[0;37;40m.\u001b[0;37;40m|\u001b[0;30;40m \u001b[0;30;40m \u001b[0;30;40m \u001b[0;30;40m \u001b[0;30;40m \u001b[0;30;40m \u001b[0;30;40m \u001b[0;30;40m \u001b[0;30;40m \u001b[0;30;40m \u001b[0;30;40m \u001b[0;30;40m \u001b[0;30;40m \u001b[0;30;40m \u001b[0;30;40m \u001b[0;30;40m \u001b[0;30;40m \u001b[0;30;40m \u001b[0;30;40m \u001b[0;30;40m \u001b[0;30;40m \u001b[0;30;40m \u001b[0;30;40m \u001b[0;30;40m \u001b[0;30;40m \u001b[0;30;40m \u001b[0;30;40m \u001b[0;30;40m \u001b[0;30;40m \u001b[0;30;40m \n",
      "\u001b[0;30;40m \u001b[0;30;40m \u001b[0;30;40m \u001b[0;30;40m \u001b[0;30;40m \u001b[0;30;40m \u001b[0;30;40m \u001b[0;30;40m \u001b[0;30;40m \u001b[0;30;40m \u001b[0;30;40m \u001b[0;30;40m \u001b[0;30;40m \u001b[0;30;40m \u001b[0;30;40m \u001b[0;30;40m \u001b[0;30;40m \u001b[0;30;40m \u001b[0;30;40m \u001b[0;30;40m \u001b[0;30;40m \u001b[0;30;40m \u001b[0;30;40m \u001b[0;30;40m \u001b[0;30;40m \u001b[0;30;40m \u001b[0;30;40m \u001b[0;30;40m \u001b[0;30;40m \u001b[0;30;40m \u001b[0;30;40m \u001b[0;30;40m \u001b[0;30;40m \u001b[0;30;40m \u001b[0;30;40m \u001b[0;30;40m \u001b[0;30;40m \u001b[0;30;40m \u001b[0;30;40m \u001b[0;30;40m \u001b[0;30;40m \u001b[0;30;40m \u001b[0;30;40m \u001b[0;30;40m \u001b[0;30;40m \u001b[0;37;40m|\u001b[0;37;40m.\u001b[0;37;40m.\u001b[0;37;40m.\u001b[0;37;40m|\u001b[0;30;40m \u001b[0;30;40m \u001b[0;30;40m \u001b[0;30;40m \u001b[0;30;40m \u001b[0;30;40m \u001b[0;30;40m \u001b[0;30;40m \u001b[0;30;40m \u001b[0;30;40m \u001b[0;30;40m \u001b[0;30;40m \u001b[0;30;40m \u001b[0;30;40m \u001b[0;30;40m \u001b[0;30;40m \u001b[0;30;40m \u001b[0;30;40m \u001b[0;30;40m \u001b[0;30;40m \u001b[0;30;40m \u001b[0;30;40m \u001b[0;30;40m \u001b[0;30;40m \u001b[0;30;40m \u001b[0;30;40m \u001b[0;30;40m \u001b[0;30;40m \u001b[0;30;40m \u001b[0;30;40m \n",
      "\u001b[0;30;40m \u001b[0;30;40m \u001b[0;30;40m \u001b[0;30;40m \u001b[0;30;40m \u001b[0;30;40m \u001b[0;30;40m \u001b[0;30;40m \u001b[0;30;40m \u001b[0;30;40m \u001b[0;30;40m \u001b[0;30;40m \u001b[0;30;40m \u001b[0;30;40m \u001b[0;30;40m \u001b[0;30;40m \u001b[0;30;40m \u001b[0;30;40m \u001b[0;30;40m \u001b[0;30;40m \u001b[0;30;40m \u001b[0;30;40m \u001b[0;30;40m \u001b[0;30;40m \u001b[0;30;40m \u001b[0;30;40m \u001b[0;30;40m \u001b[0;30;40m \u001b[0;30;40m \u001b[0;30;40m \u001b[0;30;40m \u001b[0;30;40m \u001b[0;30;40m \u001b[0;30;40m \u001b[0;30;40m \u001b[0;30;40m \u001b[0;30;40m \u001b[0;30;40m \u001b[0;30;40m \u001b[0;30;40m \u001b[0;30;40m \u001b[0;30;40m \u001b[0;30;40m \u001b[0;30;40m \u001b[0;30;40m \u001b[0;37;40m-\u001b[0;37;40m-\u001b[0;37;40m-\u001b[0;37;40m-\u001b[0;37;40m-\u001b[0;30;40m \u001b[0;30;40m \u001b[0;30;40m \u001b[0;30;40m \u001b[0;30;40m \u001b[0;30;40m \u001b[0;30;40m \u001b[0;30;40m \u001b[0;30;40m \u001b[0;30;40m \u001b[0;30;40m \u001b[0;30;40m \u001b[0;30;40m \u001b[0;30;40m \u001b[0;30;40m \u001b[0;30;40m \u001b[0;30;40m \u001b[0;30;40m \u001b[0;30;40m \u001b[0;30;40m \u001b[0;30;40m \u001b[0;30;40m \u001b[0;30;40m \u001b[0;30;40m \u001b[0;30;40m \u001b[0;30;40m \u001b[0;30;40m \u001b[0;30;40m \u001b[0;30;40m \u001b[0;30;40m \n",
      "\u001b[0;30;40m \u001b[0;30;40m \u001b[0;30;40m \u001b[0;30;40m \u001b[0;30;40m \u001b[0;30;40m \u001b[0;30;40m \u001b[0;30;40m \u001b[0;30;40m \u001b[0;30;40m \u001b[0;30;40m \u001b[0;30;40m \u001b[0;30;40m \u001b[0;30;40m \u001b[0;30;40m \u001b[0;30;40m \u001b[0;30;40m \u001b[0;30;40m \u001b[0;30;40m \u001b[0;30;40m \u001b[0;30;40m \u001b[0;30;40m \u001b[0;30;40m \u001b[0;30;40m \u001b[0;30;40m \u001b[0;30;40m \u001b[0;30;40m \u001b[0;30;40m \u001b[0;30;40m \u001b[0;30;40m \u001b[0;30;40m \u001b[0;30;40m \u001b[0;30;40m \u001b[0;30;40m \u001b[0;30;40m \u001b[0;30;40m \u001b[0;30;40m \u001b[0;30;40m \u001b[0;30;40m \u001b[0;30;40m \u001b[0;30;40m \u001b[0;30;40m \u001b[0;30;40m \u001b[0;30;40m \u001b[0;30;40m \u001b[0;30;40m \u001b[0;30;40m \u001b[0;30;40m \u001b[0;30;40m \u001b[0;30;40m \u001b[0;30;40m \u001b[0;30;40m \u001b[0;30;40m \u001b[0;30;40m \u001b[0;30;40m \u001b[0;30;40m \u001b[0;30;40m \u001b[0;30;40m \u001b[0;30;40m \u001b[0;30;40m \u001b[0;30;40m \u001b[0;30;40m \u001b[0;30;40m \u001b[0;30;40m \u001b[0;30;40m \u001b[0;30;40m \u001b[0;30;40m \u001b[0;30;40m \u001b[0;30;40m \u001b[0;30;40m \u001b[0;30;40m \u001b[0;30;40m \u001b[0;30;40m \u001b[0;30;40m \u001b[0;30;40m \u001b[0;30;40m \u001b[0;30;40m \u001b[0;30;40m \u001b[0;30;40m \u001b[0;30;40m \n",
      "\u001b[0;30;40m \u001b[0;30;40m \u001b[0;30;40m \u001b[0;30;40m \u001b[0;30;40m \u001b[0;30;40m \u001b[0;30;40m \u001b[0;30;40m \u001b[0;30;40m \u001b[0;30;40m \u001b[0;30;40m \u001b[0;30;40m \u001b[0;30;40m \u001b[0;30;40m \u001b[0;30;40m \u001b[0;30;40m \u001b[0;30;40m \u001b[0;30;40m \u001b[0;30;40m \u001b[0;30;40m \u001b[0;30;40m \u001b[0;30;40m \u001b[0;30;40m \u001b[0;30;40m \u001b[0;30;40m \u001b[0;30;40m \u001b[0;30;40m \u001b[0;30;40m \u001b[0;30;40m \u001b[0;30;40m \u001b[0;30;40m \u001b[0;30;40m \u001b[0;30;40m \u001b[0;30;40m \u001b[0;30;40m \u001b[0;30;40m \u001b[0;30;40m \u001b[0;30;40m \u001b[0;30;40m \u001b[0;30;40m \u001b[0;30;40m \u001b[0;30;40m \u001b[0;30;40m \u001b[0;30;40m \u001b[0;30;40m \u001b[0;30;40m \u001b[0;30;40m \u001b[0;30;40m \u001b[0;30;40m \u001b[0;30;40m \u001b[0;30;40m \u001b[0;30;40m \u001b[0;30;40m \u001b[0;30;40m \u001b[0;30;40m \u001b[0;30;40m \u001b[0;30;40m \u001b[0;30;40m \u001b[0;30;40m \u001b[0;30;40m \u001b[0;30;40m \u001b[0;30;40m \u001b[0;30;40m \u001b[0;30;40m \u001b[0;30;40m \u001b[0;30;40m \u001b[0;30;40m \u001b[0;30;40m \u001b[0;30;40m \u001b[0;30;40m \u001b[0;30;40m \u001b[0;30;40m \u001b[0;30;40m \u001b[0;30;40m \u001b[0;30;40m \u001b[0;30;40m \u001b[0;30;40m \u001b[0;30;40m \u001b[0;30;40m \u001b[0;30;40m \n",
      "\u001b[0;30;40m \u001b[0;30;40m \u001b[0;30;40m \u001b[0;30;40m \u001b[0;30;40m \u001b[0;30;40m \u001b[0;30;40m \u001b[0;30;40m \u001b[0;30;40m \u001b[0;30;40m \u001b[0;30;40m \u001b[0;30;40m \u001b[0;30;40m \u001b[0;30;40m \u001b[0;30;40m \u001b[0;30;40m \u001b[0;30;40m \u001b[0;30;40m \u001b[0;30;40m \u001b[0;30;40m \u001b[0;30;40m \u001b[0;30;40m \u001b[0;30;40m \u001b[0;30;40m \u001b[0;30;40m \u001b[0;30;40m \u001b[0;30;40m \u001b[0;30;40m \u001b[0;30;40m \u001b[0;30;40m \u001b[0;30;40m \u001b[0;30;40m \u001b[0;30;40m \u001b[0;30;40m \u001b[0;30;40m \u001b[0;30;40m \u001b[0;30;40m \u001b[0;30;40m \u001b[0;30;40m \u001b[0;30;40m \u001b[0;30;40m \u001b[0;30;40m \u001b[0;30;40m \u001b[0;30;40m \u001b[0;30;40m \u001b[0;30;40m \u001b[0;30;40m \u001b[0;30;40m \u001b[0;30;40m \u001b[0;30;40m \u001b[0;30;40m \u001b[0;30;40m \u001b[0;30;40m \u001b[0;30;40m \u001b[0;30;40m \u001b[0;30;40m \u001b[0;30;40m \u001b[0;30;40m \u001b[0;30;40m \u001b[0;30;40m \u001b[0;30;40m \u001b[0;30;40m \u001b[0;30;40m \u001b[0;30;40m \u001b[0;30;40m \u001b[0;30;40m \u001b[0;30;40m \u001b[0;30;40m \u001b[0;30;40m \u001b[0;30;40m \u001b[0;30;40m \u001b[0;30;40m \u001b[0;30;40m \u001b[0;30;40m \u001b[0;30;40m \u001b[0;30;40m \u001b[0;30;40m \u001b[0;30;40m \u001b[0;30;40m \u001b[0;30;40m \n",
      "\u001b[0;30;40m \u001b[0;30;40m \u001b[0;30;40m \u001b[0;30;40m \u001b[0;30;40m \u001b[0;30;40m \u001b[0;30;40m \u001b[0;30;40m \u001b[0;30;40m \u001b[0;30;40m \u001b[0;30;40m \u001b[0;30;40m \u001b[0;30;40m \u001b[0;30;40m \u001b[0;30;40m \u001b[0;30;40m \u001b[0;30;40m \u001b[0;30;40m \u001b[0;30;40m \u001b[0;30;40m \u001b[0;30;40m \u001b[0;30;40m \u001b[0;30;40m \u001b[0;30;40m \u001b[0;30;40m \u001b[0;30;40m \u001b[0;30;40m \u001b[0;30;40m \u001b[0;30;40m \u001b[0;30;40m \u001b[0;30;40m \u001b[0;30;40m \u001b[0;30;40m \u001b[0;30;40m \u001b[0;30;40m \u001b[0;30;40m \u001b[0;30;40m \u001b[0;30;40m \u001b[0;30;40m \u001b[0;30;40m \u001b[0;30;40m \u001b[0;30;40m \u001b[0;30;40m \u001b[0;30;40m \u001b[0;30;40m \u001b[0;30;40m \u001b[0;30;40m \u001b[0;30;40m \u001b[0;30;40m \u001b[0;30;40m \u001b[0;30;40m \u001b[0;30;40m \u001b[0;30;40m \u001b[0;30;40m \u001b[0;30;40m \u001b[0;30;40m \u001b[0;30;40m \u001b[0;30;40m \u001b[0;30;40m \u001b[0;30;40m \u001b[0;30;40m \u001b[0;30;40m \u001b[0;30;40m \u001b[0;30;40m \u001b[0;30;40m \u001b[0;30;40m \u001b[0;30;40m \u001b[0;30;40m \u001b[0;30;40m \u001b[0;30;40m \u001b[0;30;40m \u001b[0;30;40m \u001b[0;30;40m \u001b[0;30;40m \u001b[0;30;40m \u001b[0;30;40m \u001b[0;30;40m \u001b[0;30;40m \u001b[0;30;40m \u001b[0;30;40m \n",
      "\u001b[0;30;40m \u001b[0;30;40m \u001b[0;30;40m \u001b[0;30;40m \u001b[0;30;40m \u001b[0;30;40m \u001b[0;30;40m \u001b[0;30;40m \u001b[0;30;40m \u001b[0;30;40m \u001b[0;30;40m \u001b[0;30;40m \u001b[0;30;40m \u001b[0;30;40m \u001b[0;30;40m \u001b[0;30;40m \u001b[0;30;40m \u001b[0;30;40m \u001b[0;30;40m \u001b[0;30;40m \u001b[0;30;40m \u001b[0;30;40m \u001b[0;30;40m \u001b[0;30;40m \u001b[0;30;40m \u001b[0;30;40m \u001b[0;30;40m \u001b[0;30;40m \u001b[0;30;40m \u001b[0;30;40m \u001b[0;30;40m \u001b[0;30;40m \u001b[0;30;40m \u001b[0;30;40m \u001b[0;30;40m \u001b[0;30;40m \u001b[0;30;40m \u001b[0;30;40m \u001b[0;30;40m \u001b[0;30;40m \u001b[0;30;40m \u001b[0;30;40m \u001b[0;30;40m \u001b[0;30;40m \u001b[0;30;40m \u001b[0;30;40m \u001b[0;30;40m \u001b[0;30;40m \u001b[0;30;40m \u001b[0;30;40m \u001b[0;30;40m \u001b[0;30;40m \u001b[0;30;40m \u001b[0;30;40m \u001b[0;30;40m \u001b[0;30;40m \u001b[0;30;40m \u001b[0;30;40m \u001b[0;30;40m \u001b[0;30;40m \u001b[0;30;40m \u001b[0;30;40m \u001b[0;30;40m \u001b[0;30;40m \u001b[0;30;40m \u001b[0;30;40m \u001b[0;30;40m \u001b[0;30;40m \u001b[0;30;40m \u001b[0;30;40m \u001b[0;30;40m \u001b[0;30;40m \u001b[0;30;40m \u001b[0;30;40m \u001b[0;30;40m \u001b[0;30;40m \u001b[0;30;40m \u001b[0;30;40m \u001b[0;30;40m \u001b[0;30;40m \n",
      "\u001b[0;30;40m \u001b[0;30;40m \u001b[0;30;40m \u001b[0;30;40m \u001b[0;30;40m \u001b[0;30;40m \u001b[0;30;40m \u001b[0;30;40m \u001b[0;30;40m \u001b[0;30;40m \u001b[0;30;40m \u001b[0;30;40m \u001b[0;30;40m \u001b[0;30;40m \u001b[0;30;40m \u001b[0;30;40m \u001b[0;30;40m \u001b[0;30;40m \u001b[0;30;40m \u001b[0;30;40m \u001b[0;30;40m \u001b[0;30;40m \u001b[0;30;40m \u001b[0;30;40m \u001b[0;30;40m \u001b[0;30;40m \u001b[0;30;40m \u001b[0;30;40m \u001b[0;30;40m \u001b[0;30;40m \u001b[0;30;40m \u001b[0;30;40m \u001b[0;30;40m \u001b[0;30;40m \u001b[0;30;40m \u001b[0;30;40m \u001b[0;30;40m \u001b[0;30;40m \u001b[0;30;40m \u001b[0;30;40m \u001b[0;30;40m \u001b[0;30;40m \u001b[0;30;40m \u001b[0;30;40m \u001b[0;30;40m \u001b[0;30;40m \u001b[0;30;40m \u001b[0;30;40m \u001b[0;30;40m \u001b[0;30;40m \u001b[0;30;40m \u001b[0;30;40m \u001b[0;30;40m \u001b[0;30;40m \u001b[0;30;40m \u001b[0;30;40m \u001b[0;30;40m \u001b[0;30;40m \u001b[0;30;40m \u001b[0;30;40m \u001b[0;30;40m \u001b[0;30;40m \u001b[0;30;40m \u001b[0;30;40m \u001b[0;30;40m \u001b[0;30;40m \u001b[0;30;40m \u001b[0;30;40m \u001b[0;30;40m \u001b[0;30;40m \u001b[0;30;40m \u001b[0;30;40m \u001b[0;30;40m \u001b[0;30;40m \u001b[0;30;40m \u001b[0;30;40m \u001b[0;30;40m \u001b[0;30;40m \u001b[0;30;40m \u001b[0;30;40m \n",
      "\u001b[0;30;40m \u001b[0;30;40m \u001b[0;30;40m \u001b[0;30;40m \u001b[0;30;40m \u001b[0;30;40m \u001b[0;30;40m \u001b[0;30;40m \u001b[0;30;40m \u001b[0;30;40m \u001b[0;30;40m \u001b[0;30;40m \u001b[0;30;40m \u001b[0;30;40m \u001b[0;30;40m \u001b[0;30;40m \u001b[0;30;40m \u001b[0;30;40m \u001b[0;30;40m \u001b[0;30;40m \u001b[0;30;40m \u001b[0;30;40m \u001b[0;30;40m \u001b[0;30;40m \u001b[0;30;40m \u001b[0;30;40m \u001b[0;30;40m \u001b[0;30;40m \u001b[0;30;40m \u001b[0;30;40m \u001b[0;30;40m \u001b[0;30;40m \u001b[0;30;40m \u001b[0;30;40m \u001b[0;30;40m \u001b[0;30;40m \u001b[0;30;40m \u001b[0;30;40m \u001b[0;30;40m \u001b[0;30;40m \u001b[0;30;40m \u001b[0;30;40m \u001b[0;30;40m \u001b[0;30;40m \u001b[0;30;40m \u001b[0;30;40m \u001b[0;30;40m \u001b[0;30;40m \u001b[0;30;40m \u001b[0;30;40m \u001b[0;30;40m \u001b[0;30;40m \u001b[0;30;40m \u001b[0;30;40m \u001b[0;30;40m \u001b[0;30;40m \u001b[0;30;40m \u001b[0;30;40m \u001b[0;30;40m \u001b[0;30;40m \u001b[0;30;40m \u001b[0;30;40m \u001b[0;30;40m \u001b[0;30;40m \u001b[0;30;40m \u001b[0;30;40m \u001b[0;30;40m \u001b[0;30;40m \u001b[0;30;40m \u001b[0;30;40m \u001b[0;30;40m \u001b[0;30;40m \u001b[0;30;40m \u001b[0;30;40m \u001b[0;30;40m \u001b[0;30;40m \u001b[0;30;40m \u001b[0;30;40m \u001b[0;30;40m \u001b[0;30;40m \n",
      "\u001b[0;30;40m \u001b[0;30;40m \u001b[0;30;40m \u001b[0;30;40m \u001b[0;30;40m \u001b[0;30;40m \u001b[0;30;40m \u001b[0;30;40m \u001b[0;30;40m \u001b[0;30;40m \u001b[0;30;40m \u001b[0;30;40m \u001b[0;30;40m \u001b[0;30;40m \u001b[0;30;40m \u001b[0;30;40m \u001b[0;30;40m \u001b[0;30;40m \u001b[0;30;40m \u001b[0;30;40m \u001b[0;30;40m \u001b[0;30;40m \u001b[0;30;40m \u001b[0;30;40m \u001b[0;30;40m \u001b[0;30;40m \u001b[0;30;40m \u001b[0;30;40m \u001b[0;30;40m \u001b[0;30;40m \u001b[0;30;40m \u001b[0;30;40m \u001b[0;30;40m \u001b[0;30;40m \u001b[0;30;40m \u001b[0;30;40m \u001b[0;30;40m \u001b[0;30;40m \u001b[0;30;40m \u001b[0;30;40m \u001b[0;30;40m \u001b[0;30;40m \u001b[0;30;40m \u001b[0;30;40m \u001b[0;30;40m \u001b[0;30;40m \u001b[0;30;40m \u001b[0;30;40m \u001b[0;30;40m \u001b[0;30;40m \u001b[0;30;40m \u001b[0;30;40m \u001b[0;30;40m \u001b[0;30;40m \u001b[0;30;40m \u001b[0;30;40m \u001b[0;30;40m \u001b[0;30;40m \u001b[0;30;40m \u001b[0;30;40m \u001b[0;30;40m \u001b[0;30;40m \u001b[0;30;40m \u001b[0;30;40m \u001b[0;30;40m \u001b[0;30;40m \u001b[0;30;40m \u001b[0;30;40m \u001b[0;30;40m \u001b[0;30;40m \u001b[0;30;40m \u001b[0;30;40m \u001b[0;30;40m \u001b[0;30;40m \u001b[0;30;40m \u001b[0;30;40m \u001b[0;30;40m \u001b[0;30;40m \u001b[0;30;40m \u001b[0;30;40m \n",
      "\u001b[0;30;40m \u001b[0;30;40m \u001b[0;30;40m \u001b[0;30;40m \u001b[0;30;40m \u001b[0;30;40m \u001b[0;30;40m \u001b[0;30;40m \u001b[0;30;40m \u001b[0;30;40m \u001b[0;30;40m \u001b[0;30;40m \u001b[0;30;40m \u001b[0;30;40m \u001b[0;30;40m \u001b[0;30;40m \u001b[0;30;40m \u001b[0;30;40m \u001b[0;30;40m \u001b[0;30;40m \u001b[0;30;40m \u001b[0;30;40m \u001b[0;30;40m \u001b[0;30;40m \u001b[0;30;40m \u001b[0;30;40m \u001b[0;30;40m \u001b[0;30;40m \u001b[0;30;40m \u001b[0;30;40m \u001b[0;30;40m \u001b[0;30;40m \u001b[0;30;40m \u001b[0;30;40m \u001b[0;30;40m \u001b[0;30;40m \u001b[0;30;40m \u001b[0;30;40m \u001b[0;30;40m \u001b[0;30;40m \u001b[0;30;40m \u001b[0;30;40m \u001b[0;30;40m \u001b[0;30;40m \u001b[0;30;40m \u001b[0;30;40m \u001b[0;30;40m \u001b[0;30;40m \u001b[0;30;40m \u001b[0;30;40m \u001b[0;30;40m \u001b[0;30;40m \u001b[0;30;40m \u001b[0;30;40m \u001b[0;30;40m \u001b[0;30;40m \u001b[0;30;40m \u001b[0;30;40m \u001b[0;30;40m \u001b[0;30;40m \u001b[0;30;40m \u001b[0;30;40m \u001b[0;30;40m \u001b[0;30;40m \u001b[0;30;40m \u001b[0;30;40m \u001b[0;30;40m \u001b[0;30;40m \u001b[0;30;40m \u001b[0;30;40m \u001b[0;30;40m \u001b[0;30;40m \u001b[0;30;40m \u001b[0;30;40m \u001b[0;30;40m \u001b[0;30;40m \u001b[0;30;40m \u001b[0;30;40m \u001b[0;30;40m \u001b[0;30;40m \n",
      "\u001b[0;37;40mA\u001b[0;37;40mg\u001b[0;37;40me\u001b[0;37;40mn\u001b[0;37;40mt\u001b[0;30;40m \u001b[0;37;40mt\u001b[0;37;40mh\u001b[0;37;40me\u001b[0;30;40m \u001b[0;37;40mR\u001b[0;37;40ma\u001b[0;37;40mm\u001b[0;37;40mb\u001b[0;37;40ml\u001b[0;37;40me\u001b[0;37;40mr\u001b[0;30;40m \u001b[0;30;40m \u001b[0;30;40m \u001b[0;30;40m \u001b[0;30;40m \u001b[0;30;40m \u001b[0;30;40m \u001b[0;30;40m \u001b[0;30;40m \u001b[0;30;40m \u001b[0;30;40m \u001b[0;30;40m \u001b[0;30;40m \u001b[0;30;40m \u001b[0;37;40mS\u001b[0;37;40mt\u001b[0;37;40m:\u001b[0;37;40m1\u001b[0;37;40m0\u001b[0;30;40m \u001b[0;37;40mD\u001b[0;37;40mx\u001b[0;37;40m:\u001b[0;37;40m1\u001b[0;37;40m3\u001b[0;30;40m \u001b[0;37;40mC\u001b[0;37;40mo\u001b[0;37;40m:\u001b[0;37;40m1\u001b[0;37;40m1\u001b[0;30;40m \u001b[0;37;40mI\u001b[0;37;40mn\u001b[0;37;40m:\u001b[0;37;40m1\u001b[0;37;40m2\u001b[0;30;40m \u001b[0;37;40mW\u001b[0;37;40mi\u001b[0;37;40m:\u001b[0;37;40m1\u001b[0;37;40m5\u001b[0;30;40m \u001b[0;37;40mC\u001b[0;37;40mh\u001b[0;37;40m:\u001b[0;37;40m1\u001b[0;37;40m4\u001b[0;30;40m \u001b[0;37;40mN\u001b[0;37;40me\u001b[0;37;40mu\u001b[0;37;40mt\u001b[0;37;40mr\u001b[0;37;40ma\u001b[0;37;40ml\u001b[0;30;40m \u001b[0;37;40mS\u001b[0;37;40m:\u001b[0;37;40m0\u001b[0;30;40m \u001b[0;30;40m \n",
      "\u001b[0;37;40mD\u001b[0;37;40ml\u001b[0;37;40mv\u001b[0;37;40ml\u001b[0;37;40m:\u001b[0;37;40m1\u001b[0;30;40m \u001b[0;37;40m$\u001b[0;37;40m:\u001b[0;37;40m2\u001b[0;37;40m0\u001b[0;37;40m0\u001b[0;30;40m \u001b[0;37;40mH\u001b[0;37;40mP\u001b[0;37;40m:\u001b[0;37;40m1\u001b[0;37;40m0\u001b[0;37;40m(\u001b[0;37;40m1\u001b[0;37;40m0\u001b[0;37;40m)\u001b[0;30;40m \u001b[0;37;40mP\u001b[0;37;40mw\u001b[0;37;40m:\u001b[0;37;40m2\u001b[0;37;40m(\u001b[0;37;40m2\u001b[0;37;40m)\u001b[0;30;40m \u001b[0;37;40mA\u001b[0;37;40mC\u001b[0;37;40m:\u001b[0;37;40m1\u001b[0;37;40m0\u001b[0;30;40m \u001b[0;37;40mX\u001b[0;37;40mp\u001b[0;37;40m:\u001b[0;37;40m1\u001b[0;37;40m/\u001b[0;37;40m0\u001b[0;30;40m \u001b[0;30;40m \u001b[0;30;40m \u001b[0;30;40m \u001b[0;30;40m \u001b[0;30;40m \u001b[0;30;40m \u001b[0;30;40m \u001b[0;30;40m \u001b[0;30;40m \u001b[0;30;40m \u001b[0;30;40m \u001b[0;30;40m \u001b[0;30;40m \u001b[0;30;40m \u001b[0;30;40m \u001b[0;30;40m \u001b[0;30;40m \u001b[0;30;40m \u001b[0;30;40m \u001b[0;30;40m \u001b[0;30;40m \u001b[0;30;40m \u001b[0;30;40m \u001b[0;30;40m \u001b[0;30;40m \u001b[0;30;40m \u001b[0;30;40m \u001b[0;30;40m \u001b[0;30;40m \u001b[0;30;40m \u001b[0;30;40m \u001b[0;30;40m \u001b[0;30;40m \u001b[0;30;40m \u001b[0;30;40m \u001b[0;30;40m \u001b[0m\n",
      "\n",
      "MESSAGE\n",
      "Aloha Agent, welcome to NetHack!  You are a neutral female human Tourist.\n",
      "\n",
      "BL STATS\n",
      "hero col: 46 hero_row: 7 strength_pct: 10 strength: 10 dexterity: 13 constitution: 11 intelligence: 12 wisdom: 15 charisma: 14 score: 0 hitpoints: 10 max_hitpoints: 10 depth: 1 gold: 200 energy: 2 max_energy: 2 armor_class: 10 monster_level: 0 experience_level: 1 experience_points: 0 time: 1 hunger_state: 1 carrying_capacity: 0 dungeon_number: 0 level_number: 1\n"
     ]
    }
   ],
   "source": [
    "bl_meaning = [\n",
    "    'hero col', 'hero_row', 'strength_pct', 'strength', 'dexterity', 'constitution', \n",
    "    'intelligence', 'wisdom', 'charisma', 'score', 'hitpoints', 'max_hitpoints', 'depth', \n",
    "    'gold', 'energy', 'max_energy', 'armor_class', 'monster_level', 'experience_level', \n",
    "    'experience_points', 'time', 'hunger_state', 'carrying_capacity', 'dungeon_number', 'level_number'\n",
    "]\n",
    "env.render('notebook')\n",
    "obs['blstats']\n",
    "\n",
    "print()\n",
    "print('MESSAGE')\n",
    "print(bytes(obs['message']).decode('ascii').replace('\\0',''))\n",
    "\n",
    "print()\n",
    "print('BL STATS')\n",
    "print(' '.join([\"%s: %d\" % (m,s) for m, s in zip(bl_meaning, obs['blstats'])]))\n"
   ]
  },
  {
   "cell_type": "markdown",
   "id": "c7464df6",
   "metadata": {
    "id": "c7464df6"
   },
   "source": [
    "#### Inventory\n",
    "\n",
    "After this we have a series of entries to signify what's in the inventory.\n",
    "\n",
    "* **inv_glyphs** - The glyphs corresponding to the items in each slot in the inventory\n",
    "* **inv_letters** - The letter assigned to the slot in the inventory\n",
    "* **inv_strs** - The textual description of each item in the inventory\n",
    "* **inv_oclasses** - The object class of the item in the inventory (potion, scroll etc...)"
   ]
  },
  {
   "cell_type": "code",
   "execution_count": 7,
   "id": "f3116c76",
   "metadata": {
    "colab": {
     "base_uri": "https://localhost:8080/"
    },
    "executionInfo": {
     "elapsed": 508,
     "status": "ok",
     "timestamp": 1625065265284,
     "user": {
      "displayName": "C.D. Matters",
      "photoUrl": "",
      "userId": "13403307381320921728"
     },
     "user_tz": -60
    },
    "id": "f3116c76",
    "outputId": "82209b42-5415-4c5f-acd5-e7dbb8e95d5d"
   },
   "outputs": [
    {
     "name": "stdout",
     "output_type": "stream",
     "text": [
      "In slot ($) - glyph: 2316, (class 12) - \"200 gold pieces\"\n",
      "In slot (a) - glyph: 1913, (class 2) - \"36 blessed +2 darts (at the ready)\"\n",
      "In slot (b) - glyph: 2174, (class 7) - \"5 uncursed food rations\"\n",
      "In slot (c) - glyph: 2157, (class 7) - \"3 uncursed eucalyptus leaves\"\n",
      "In slot (d) - glyph: 2172, (class 7) - \"an uncursed lembas wafer\"\n",
      "In slot (e) - glyph: 2173, (class 7) - \"3 uncursed cram rations\"\n",
      "In slot (f) - glyph: 2179, (class 8) - \"2 uncursed potions of extra healing\"\n",
      "In slot (g) - glyph: 2209, (class 9) - \"4 uncursed scrolls of magic mapping\"\n",
      "In slot (h) - glyph: 2021, (class 3) - \"a blessed +0 Hawaiian shirt (being worn)\"\n",
      "In slot (i) - glyph: 2110, (class 6) - \"an expensive camera (0:38)\"\n",
      "In slot (j) - glyph: 2104, (class 6) - \"an uncursed credit card\"\n"
     ]
    }
   ],
   "source": [
    "for let, glyph, strs, oclass in zip(\n",
    "    obs['inv_letters'], obs['inv_glyphs'], obs['inv_strs'], obs['inv_oclasses']):\n",
    "    \n",
    "    l = chr(let)\n",
    "    desc = bytes(strs).decode('ascii').replace('\\0','')\n",
    "    if let:\n",
    "        print('In slot (%s) - glyph: %d, (class %d) - \"%s\"' % (l, glyph, oclass, desc))"
   ]
  },
  {
   "cell_type": "markdown",
   "id": "O-sHu8mubDOO",
   "metadata": {
    "id": "O-sHu8mubDOO"
   },
   "source": [
    "#### Miscellaneous Internal Game State\n",
    "\n",
    "As you progress through the game, you may encounter some different 'modes' of input. For instance, the game might be asking you a yes or no questions (`Do you really want to pray? yn(n)`) or you may enter a menu that requires a space to quit.  Some flags are provided to you to help you work out the current mode in the **`misc`** observation, which is an array of integers\n",
    "```\n",
    "misc[0] - boolean (0 or 1) - yn_question    # Am I in a yes or no question? (Like after \"pray\")\n",
    "misc[1] - boolean (0 or 1) - getline        # Am I writing the input to a line? (Like making a wish)\n",
    "misc[2] - boolean (0 or 1) - xwaitforspace  # Am I waiting for a space? (Like when -More- is shown, or after \"inventory\")\n",
    "```"
   ]
  },
  {
   "cell_type": "code",
   "execution_count": 8,
   "id": "uw_9KZwubHmZ",
   "metadata": {
    "colab": {
     "base_uri": "https://localhost:8080/"
    },
    "executionInfo": {
     "elapsed": 18,
     "status": "ok",
     "timestamp": 1625065265285,
     "user": {
      "displayName": "C.D. Matters",
      "photoUrl": "",
      "userId": "13403307381320921728"
     },
     "user_tz": -60
    },
    "id": "uw_9KZwubHmZ",
    "outputId": "3451d750-85d0-4b20-db73-9abf659447bb"
   },
   "outputs": [
    {
     "name": "stdout",
     "output_type": "stream",
     "text": [
      "[0 0 0]\n"
     ]
    }
   ],
   "source": [
    "print(obs[\"misc\"])"
   ]
  },
  {
   "cell_type": "markdown",
   "id": "ccc71153",
   "metadata": {
    "id": "ccc71153"
   },
   "source": [
    "#### Terminal Rendering\n",
    "\n",
    "Finally NLE provides you with the raw outputs of the terminal screen, should you decide you want to learn from this. This allows you to render menus and popups that might not otherwise be shown on the dungeon. \n",
    "\n",
    "The observations are simple:\n",
    "* **`tty_chars`** the characters at each point on the screen\n",
    "* **`tty_colors`** the colors at each point on the screen\n",
    "* **`tty_cursor`** the location of the cursor on the screen (note!:its not always on the hero!) \n",
    "\n",
    "These first two are whats rendered when you call `env.render()` in human mode, and the cursor is pretty self explanatory."
   ]
  },
  {
   "cell_type": "code",
   "execution_count": 9,
   "id": "fdd30978",
   "metadata": {
    "colab": {
     "base_uri": "https://localhost:8080/"
    },
    "executionInfo": {
     "elapsed": 18,
     "status": "ok",
     "timestamp": 1625065265285,
     "user": {
      "displayName": "C.D. Matters",
      "photoUrl": "",
      "userId": "13403307381320921728"
     },
     "user_tz": -60
    },
    "id": "fdd30978",
    "outputId": "c090ddb7-9e9d-4b4e-d580-ef10485e4d16"
   },
   "outputs": [
    {
     "name": "stdout",
     "output_type": "stream",
     "text": [
      "[ 8 46]\n",
      "\n",
      "\u001b[0;37;40mA\u001b[0;37;40ml\u001b[0;37;40mo\u001b[0;37;40mh\u001b[0;37;40ma\u001b[0;30;40m \u001b[0;37;40mA\u001b[0;37;40mg\u001b[0;37;40me\u001b[0;37;40mn\u001b[0;37;40mt\u001b[0;37;40m,\u001b[0;30;40m \u001b[0;37;40mw\u001b[0;37;40me\u001b[0;37;40ml\u001b[0;37;40mc\u001b[0;37;40mo\u001b[0;37;40mm\u001b[0;37;40me\u001b[0;30;40m \u001b[0;37;40mt\u001b[0;37;40mo\u001b[0;30;40m \u001b[0;37;40mN\u001b[0;37;40me\u001b[0;37;40mt\u001b[0;37;40mH\u001b[0;37;40ma\u001b[0;37;40mc\u001b[0;37;40mk\u001b[0;37;40m!\u001b[0;30;40m \u001b[0;30;40m \u001b[0;37;40mY\u001b[0;37;40mo\u001b[0;37;40mu\u001b[0;30;40m \u001b[0;37;40ma\u001b[0;37;40mr\u001b[0;37;40me\u001b[0;30;40m \u001b[0;37;40ma\u001b[0;30;40m \u001b[0;37;40mn\u001b[0;37;40me\u001b[0;37;40mu\u001b[0;37;40mt\u001b[0;37;40mr\u001b[0;37;40ma\u001b[0;37;40ml\u001b[0;30;40m \u001b[0;37;40mf\u001b[0;37;40me\u001b[0;37;40mm\u001b[0;37;40ma\u001b[0;37;40ml\u001b[0;37;40me\u001b[0;30;40m \u001b[0;37;40mh\u001b[0;37;40mu\u001b[0;37;40mm\u001b[0;37;40ma\u001b[0;37;40mn\u001b[0;30;40m \u001b[0;37;40mT\u001b[0;37;40mo\u001b[0;37;40mu\u001b[0;37;40mr\u001b[0;37;40mi\u001b[0;37;40ms\u001b[0;37;40mt\u001b[0;37;40m.\u001b[0;30;40m \u001b[0;30;40m \u001b[0;30;40m \u001b[0;30;40m \u001b[0;30;40m \u001b[0;30;40m \u001b[0;30;40m \n",
      "\u001b[0;30;40m \u001b[0;30;40m \u001b[0;30;40m \u001b[0;30;40m \u001b[0;30;40m \u001b[0;30;40m \u001b[0;30;40m \u001b[0;30;40m \u001b[0;30;40m \u001b[0;30;40m \u001b[0;30;40m \u001b[0;30;40m \u001b[0;30;40m \u001b[0;30;40m \u001b[0;30;40m \u001b[0;30;40m \u001b[0;30;40m \u001b[0;30;40m \u001b[0;30;40m \u001b[0;30;40m \u001b[0;30;40m \u001b[0;30;40m \u001b[0;30;40m \u001b[0;30;40m \u001b[0;30;40m \u001b[0;30;40m \u001b[0;30;40m \u001b[0;30;40m \u001b[0;30;40m \u001b[0;30;40m \u001b[0;30;40m \u001b[0;30;40m \u001b[0;30;40m \u001b[0;30;40m \u001b[0;30;40m \u001b[0;30;40m \u001b[0;30;40m \u001b[0;30;40m \u001b[0;30;40m \u001b[0;30;40m \u001b[0;30;40m \u001b[0;30;40m \u001b[0;30;40m \u001b[0;30;40m \u001b[0;30;40m \u001b[0;30;40m \u001b[0;30;40m \u001b[0;30;40m \u001b[0;30;40m \u001b[0;30;40m \u001b[0;30;40m \u001b[0;30;40m \u001b[0;30;40m \u001b[0;30;40m \u001b[0;30;40m \u001b[0;30;40m \u001b[0;30;40m \u001b[0;30;40m \u001b[0;30;40m \u001b[0;30;40m \u001b[0;30;40m \u001b[0;30;40m \u001b[0;30;40m \u001b[0;30;40m \u001b[0;30;40m \u001b[0;30;40m \u001b[0;30;40m \u001b[0;30;40m \u001b[0;30;40m \u001b[0;30;40m \u001b[0;30;40m \u001b[0;30;40m \u001b[0;30;40m \u001b[0;30;40m \u001b[0;30;40m \u001b[0;30;40m \u001b[0;30;40m \u001b[0;30;40m \u001b[0;30;40m \u001b[0;30;40m \n",
      "\u001b[0;30;40m \u001b[0;30;40m \u001b[0;30;40m \u001b[0;30;40m \u001b[0;30;40m \u001b[0;30;40m \u001b[0;30;40m \u001b[0;30;40m \u001b[0;30;40m \u001b[0;30;40m \u001b[0;30;40m \u001b[0;30;40m \u001b[0;30;40m \u001b[0;30;40m \u001b[0;30;40m \u001b[0;30;40m \u001b[0;30;40m \u001b[0;30;40m \u001b[0;30;40m \u001b[0;30;40m \u001b[0;30;40m \u001b[0;30;40m \u001b[0;30;40m \u001b[0;30;40m \u001b[0;30;40m \u001b[0;30;40m \u001b[0;30;40m \u001b[0;30;40m \u001b[0;30;40m \u001b[0;30;40m \u001b[0;30;40m \u001b[0;30;40m \u001b[0;30;40m \u001b[0;30;40m \u001b[0;30;40m \u001b[0;30;40m \u001b[0;30;40m \u001b[0;30;40m \u001b[0;30;40m \u001b[0;30;40m \u001b[0;30;40m \u001b[0;30;40m \u001b[0;30;40m \u001b[0;30;40m \u001b[0;30;40m \u001b[0;30;40m \u001b[0;30;40m \u001b[0;30;40m \u001b[0;30;40m \u001b[0;30;40m \u001b[0;30;40m \u001b[0;30;40m \u001b[0;30;40m \u001b[0;30;40m \u001b[0;30;40m \u001b[0;30;40m \u001b[0;30;40m \u001b[0;30;40m \u001b[0;30;40m \u001b[0;30;40m \u001b[0;30;40m \u001b[0;30;40m \u001b[0;30;40m \u001b[0;30;40m \u001b[0;30;40m \u001b[0;30;40m \u001b[0;30;40m \u001b[0;30;40m \u001b[0;30;40m \u001b[0;30;40m \u001b[0;30;40m \u001b[0;30;40m \u001b[0;30;40m \u001b[0;30;40m \u001b[0;30;40m \u001b[0;30;40m \u001b[0;30;40m \u001b[0;30;40m \u001b[0;30;40m \u001b[0;30;40m \n",
      "\u001b[0;30;40m \u001b[0;30;40m \u001b[0;30;40m \u001b[0;30;40m \u001b[0;30;40m \u001b[0;30;40m \u001b[0;30;40m \u001b[0;30;40m \u001b[0;30;40m \u001b[0;30;40m \u001b[0;30;40m \u001b[0;30;40m \u001b[0;30;40m \u001b[0;30;40m \u001b[0;30;40m \u001b[0;30;40m \u001b[0;30;40m \u001b[0;30;40m \u001b[0;30;40m \u001b[0;30;40m \u001b[0;30;40m \u001b[0;30;40m \u001b[0;30;40m \u001b[0;30;40m \u001b[0;30;40m \u001b[0;30;40m \u001b[0;30;40m \u001b[0;30;40m \u001b[0;30;40m \u001b[0;30;40m \u001b[0;30;40m \u001b[0;30;40m \u001b[0;30;40m \u001b[0;30;40m \u001b[0;30;40m \u001b[0;30;40m \u001b[0;30;40m \u001b[0;30;40m \u001b[0;30;40m \u001b[0;30;40m \u001b[0;30;40m \u001b[0;30;40m \u001b[0;30;40m \u001b[0;30;40m \u001b[0;30;40m \u001b[0;30;40m \u001b[0;30;40m \u001b[0;30;40m \u001b[0;30;40m \u001b[0;30;40m \u001b[0;30;40m \u001b[0;30;40m \u001b[0;30;40m \u001b[0;30;40m \u001b[0;30;40m \u001b[0;30;40m \u001b[0;30;40m \u001b[0;30;40m \u001b[0;30;40m \u001b[0;30;40m \u001b[0;30;40m \u001b[0;30;40m \u001b[0;30;40m \u001b[0;30;40m \u001b[0;30;40m \u001b[0;30;40m \u001b[0;30;40m \u001b[0;30;40m \u001b[0;30;40m \u001b[0;30;40m \u001b[0;30;40m \u001b[0;30;40m \u001b[0;30;40m \u001b[0;30;40m \u001b[0;30;40m \u001b[0;30;40m \u001b[0;30;40m \u001b[0;30;40m \u001b[0;30;40m \u001b[0;30;40m \n",
      "\u001b[0;30;40m \u001b[0;30;40m \u001b[0;30;40m \u001b[0;30;40m \u001b[0;30;40m \u001b[0;30;40m \u001b[0;30;40m \u001b[0;30;40m \u001b[0;30;40m \u001b[0;30;40m \u001b[0;30;40m \u001b[0;30;40m \u001b[0;30;40m \u001b[0;30;40m \u001b[0;30;40m \u001b[0;30;40m \u001b[0;30;40m \u001b[0;30;40m \u001b[0;30;40m \u001b[0;30;40m \u001b[0;30;40m \u001b[0;30;40m \u001b[0;30;40m \u001b[0;30;40m \u001b[0;30;40m \u001b[0;30;40m \u001b[0;30;40m \u001b[0;30;40m \u001b[0;30;40m \u001b[0;30;40m \u001b[0;30;40m \u001b[0;30;40m \u001b[0;30;40m \u001b[0;30;40m \u001b[0;30;40m \u001b[0;30;40m \u001b[0;30;40m \u001b[0;30;40m \u001b[0;30;40m \u001b[0;30;40m \u001b[0;30;40m \u001b[0;30;40m \u001b[0;30;40m \u001b[0;30;40m \u001b[0;30;40m \u001b[0;30;40m \u001b[0;30;40m \u001b[0;30;40m \u001b[0;30;40m \u001b[0;30;40m \u001b[0;30;40m \u001b[0;30;40m \u001b[0;30;40m \u001b[0;30;40m \u001b[0;30;40m \u001b[0;30;40m \u001b[0;30;40m \u001b[0;30;40m \u001b[0;30;40m \u001b[0;30;40m \u001b[0;30;40m \u001b[0;30;40m \u001b[0;30;40m \u001b[0;30;40m \u001b[0;30;40m \u001b[0;30;40m \u001b[0;30;40m \u001b[0;30;40m \u001b[0;30;40m \u001b[0;30;40m \u001b[0;30;40m \u001b[0;30;40m \u001b[0;30;40m \u001b[0;30;40m \u001b[0;30;40m \u001b[0;30;40m \u001b[0;30;40m \u001b[0;30;40m \u001b[0;30;40m \u001b[0;30;40m \n",
      "\u001b[0;30;40m \u001b[0;30;40m \u001b[0;30;40m \u001b[0;30;40m \u001b[0;30;40m \u001b[0;30;40m \u001b[0;30;40m \u001b[0;30;40m \u001b[0;30;40m \u001b[0;30;40m \u001b[0;30;40m \u001b[0;30;40m \u001b[0;30;40m \u001b[0;30;40m \u001b[0;30;40m \u001b[0;30;40m \u001b[0;30;40m \u001b[0;30;40m \u001b[0;30;40m \u001b[0;30;40m \u001b[0;30;40m \u001b[0;30;40m \u001b[0;30;40m \u001b[0;30;40m \u001b[0;30;40m \u001b[0;30;40m \u001b[0;30;40m \u001b[0;30;40m \u001b[0;30;40m \u001b[0;30;40m \u001b[0;30;40m \u001b[0;30;40m \u001b[0;30;40m \u001b[0;30;40m \u001b[0;30;40m \u001b[0;30;40m \u001b[0;30;40m \u001b[0;30;40m \u001b[0;30;40m \u001b[0;30;40m \u001b[0;30;40m \u001b[0;30;40m \u001b[0;30;40m \u001b[0;30;40m \u001b[0;30;40m \u001b[0;30;40m \u001b[0;30;40m \u001b[0;30;40m \u001b[0;30;40m \u001b[0;30;40m \u001b[0;30;40m \u001b[0;30;40m \u001b[0;30;40m \u001b[0;30;40m \u001b[0;30;40m \u001b[0;30;40m \u001b[0;30;40m \u001b[0;30;40m \u001b[0;30;40m \u001b[0;30;40m \u001b[0;30;40m \u001b[0;30;40m \u001b[0;30;40m \u001b[0;30;40m \u001b[0;30;40m \u001b[0;30;40m \u001b[0;30;40m \u001b[0;30;40m \u001b[0;30;40m \u001b[0;30;40m \u001b[0;30;40m \u001b[0;30;40m \u001b[0;30;40m \u001b[0;30;40m \u001b[0;30;40m \u001b[0;30;40m \u001b[0;30;40m \u001b[0;30;40m \u001b[0;30;40m \u001b[0;30;40m \n",
      "\u001b[0;30;40m \u001b[0;30;40m \u001b[0;30;40m \u001b[0;30;40m \u001b[0;30;40m \u001b[0;30;40m \u001b[0;30;40m \u001b[0;30;40m \u001b[0;30;40m \u001b[0;30;40m \u001b[0;30;40m \u001b[0;30;40m \u001b[0;30;40m \u001b[0;30;40m \u001b[0;30;40m \u001b[0;30;40m \u001b[0;30;40m \u001b[0;30;40m \u001b[0;30;40m \u001b[0;30;40m \u001b[0;30;40m \u001b[0;30;40m \u001b[0;30;40m \u001b[0;30;40m \u001b[0;30;40m \u001b[0;30;40m \u001b[0;30;40m \u001b[0;30;40m \u001b[0;30;40m \u001b[0;30;40m \u001b[0;30;40m \u001b[0;30;40m \u001b[0;30;40m \u001b[0;30;40m \u001b[0;30;40m \u001b[0;30;40m \u001b[0;30;40m \u001b[0;30;40m \u001b[0;30;40m \u001b[0;30;40m \u001b[0;30;40m \u001b[0;30;40m \u001b[0;30;40m \u001b[0;30;40m \u001b[0;30;40m \u001b[0;30;40m \u001b[0;30;40m \u001b[0;30;40m \u001b[0;30;40m \u001b[0;30;40m \u001b[0;30;40m \u001b[0;30;40m \u001b[0;30;40m \u001b[0;30;40m \u001b[0;30;40m \u001b[0;30;40m \u001b[0;30;40m \u001b[0;30;40m \u001b[0;30;40m \u001b[0;30;40m \u001b[0;30;40m \u001b[0;30;40m \u001b[0;30;40m \u001b[0;30;40m \u001b[0;30;40m \u001b[0;30;40m \u001b[0;30;40m \u001b[0;30;40m \u001b[0;30;40m \u001b[0;30;40m \u001b[0;30;40m \u001b[0;30;40m \u001b[0;30;40m \u001b[0;30;40m \u001b[0;30;40m \u001b[0;30;40m \u001b[0;30;40m \u001b[0;30;40m \u001b[0;30;40m \u001b[0;30;40m \n",
      "\u001b[0;30;40m \u001b[0;30;40m \u001b[0;30;40m \u001b[0;30;40m \u001b[0;30;40m \u001b[0;30;40m \u001b[0;30;40m \u001b[0;30;40m \u001b[0;30;40m \u001b[0;30;40m \u001b[0;30;40m \u001b[0;30;40m \u001b[0;30;40m \u001b[0;30;40m \u001b[0;30;40m \u001b[0;30;40m \u001b[0;30;40m \u001b[0;30;40m \u001b[0;30;40m \u001b[0;30;40m \u001b[0;30;40m \u001b[0;30;40m \u001b[0;30;40m \u001b[0;30;40m \u001b[0;30;40m \u001b[0;30;40m \u001b[0;30;40m \u001b[0;30;40m \u001b[0;30;40m \u001b[0;30;40m \u001b[0;30;40m \u001b[0;30;40m \u001b[0;30;40m \u001b[0;30;40m \u001b[0;30;40m \u001b[0;30;40m \u001b[0;30;40m \u001b[0;30;40m \u001b[0;30;40m \u001b[0;30;40m \u001b[0;30;40m \u001b[0;30;40m \u001b[0;30;40m \u001b[0;30;40m \u001b[0;30;40m \u001b[0;37;40m-\u001b[0;37;40m-\u001b[0;37;40m-\u001b[0;37;40m-\u001b[0;37;40m-\u001b[0;30;40m \u001b[0;30;40m \u001b[0;30;40m \u001b[0;30;40m \u001b[0;30;40m \u001b[0;30;40m \u001b[0;30;40m \u001b[0;30;40m \u001b[0;30;40m \u001b[0;30;40m \u001b[0;30;40m \u001b[0;30;40m \u001b[0;30;40m \u001b[0;30;40m \u001b[0;30;40m \u001b[0;30;40m \u001b[0;30;40m \u001b[0;30;40m \u001b[0;30;40m \u001b[0;30;40m \u001b[0;30;40m \u001b[0;30;40m \u001b[0;30;40m \u001b[0;30;40m \u001b[0;30;40m \u001b[0;30;40m \u001b[0;30;40m \u001b[0;30;40m \u001b[0;30;40m \u001b[0;30;40m \n",
      "\u001b[0;30;40m \u001b[0;30;40m \u001b[0;30;40m \u001b[0;30;40m \u001b[0;30;40m \u001b[0;30;40m \u001b[0;30;40m \u001b[0;30;40m \u001b[0;30;40m \u001b[0;30;40m \u001b[0;30;40m \u001b[0;30;40m \u001b[0;30;40m \u001b[0;30;40m \u001b[0;30;40m \u001b[0;30;40m \u001b[0;30;40m \u001b[0;30;40m \u001b[0;30;40m \u001b[0;30;40m \u001b[0;30;40m \u001b[0;30;40m \u001b[0;30;40m \u001b[0;30;40m \u001b[0;30;40m \u001b[0;30;40m \u001b[0;30;40m \u001b[0;30;40m \u001b[0;30;40m \u001b[0;30;40m \u001b[0;30;40m \u001b[0;30;40m \u001b[0;30;40m \u001b[0;30;40m \u001b[0;30;40m \u001b[0;30;40m \u001b[0;30;40m \u001b[0;30;40m \u001b[0;30;40m \u001b[0;30;40m \u001b[0;30;40m \u001b[0;30;40m \u001b[0;30;40m \u001b[0;30;40m \u001b[0;30;40m \u001b[0;37;40m|\u001b[1;37;40m@\u001b[0;37;40m.\u001b[0;31;40m%\u001b[0;37;40m|\u001b[0;30;40m \u001b[0;30;40m \u001b[0;30;40m \u001b[0;30;40m \u001b[0;30;40m \u001b[0;30;40m \u001b[0;30;40m \u001b[0;30;40m \u001b[0;30;40m \u001b[0;30;40m \u001b[0;30;40m \u001b[0;30;40m \u001b[0;30;40m \u001b[0;30;40m \u001b[0;30;40m \u001b[0;30;40m \u001b[0;30;40m \u001b[0;30;40m \u001b[0;30;40m \u001b[0;30;40m \u001b[0;30;40m \u001b[0;30;40m \u001b[0;30;40m \u001b[0;30;40m \u001b[0;30;40m \u001b[0;30;40m \u001b[0;30;40m \u001b[0;30;40m \u001b[0;30;40m \u001b[0;30;40m \n",
      "\u001b[0;30;40m \u001b[0;30;40m \u001b[0;30;40m \u001b[0;30;40m \u001b[0;30;40m \u001b[0;30;40m \u001b[0;30;40m \u001b[0;30;40m \u001b[0;30;40m \u001b[0;30;40m \u001b[0;30;40m \u001b[0;30;40m \u001b[0;30;40m \u001b[0;30;40m \u001b[0;30;40m \u001b[0;30;40m \u001b[0;30;40m \u001b[0;30;40m \u001b[0;30;40m \u001b[0;30;40m \u001b[0;30;40m \u001b[0;30;40m \u001b[0;30;40m \u001b[0;30;40m \u001b[0;30;40m \u001b[0;30;40m \u001b[0;30;40m \u001b[0;30;40m \u001b[0;30;40m \u001b[0;30;40m \u001b[0;30;40m \u001b[0;30;40m \u001b[0;30;40m \u001b[0;30;40m \u001b[0;30;40m \u001b[0;30;40m \u001b[0;30;40m \u001b[0;30;40m \u001b[0;30;40m \u001b[0;30;40m \u001b[0;30;40m \u001b[0;30;40m \u001b[0;30;40m \u001b[0;30;40m \u001b[0;30;40m \u001b[0;37;40m|\u001b[1;37;40mf\u001b[0;37;40m.\u001b[0;37;40m.\u001b[0;33;40m+\u001b[0;30;40m \u001b[0;30;40m \u001b[0;30;40m \u001b[0;30;40m \u001b[0;30;40m \u001b[0;30;40m \u001b[0;30;40m \u001b[0;30;40m \u001b[0;30;40m \u001b[0;30;40m \u001b[0;30;40m \u001b[0;30;40m \u001b[0;30;40m \u001b[0;30;40m \u001b[0;30;40m \u001b[0;30;40m \u001b[0;30;40m \u001b[0;30;40m \u001b[0;30;40m \u001b[0;30;40m \u001b[0;30;40m \u001b[0;30;40m \u001b[0;30;40m \u001b[0;30;40m \u001b[0;30;40m \u001b[0;30;40m \u001b[0;30;40m \u001b[0;30;40m \u001b[0;30;40m \u001b[0;30;40m \n",
      "\u001b[0;30;40m \u001b[0;30;40m \u001b[0;30;40m \u001b[0;30;40m \u001b[0;30;40m \u001b[0;30;40m \u001b[0;30;40m \u001b[0;30;40m \u001b[0;30;40m \u001b[0;30;40m \u001b[0;30;40m \u001b[0;30;40m \u001b[0;30;40m \u001b[0;30;40m \u001b[0;30;40m \u001b[0;30;40m \u001b[0;30;40m \u001b[0;30;40m \u001b[0;30;40m \u001b[0;30;40m \u001b[0;30;40m \u001b[0;30;40m \u001b[0;30;40m \u001b[0;30;40m \u001b[0;30;40m \u001b[0;30;40m \u001b[0;30;40m \u001b[0;30;40m \u001b[0;30;40m \u001b[0;30;40m \u001b[0;30;40m \u001b[0;30;40m \u001b[0;30;40m \u001b[0;30;40m \u001b[0;30;40m \u001b[0;30;40m \u001b[0;30;40m \u001b[0;30;40m \u001b[0;30;40m \u001b[0;30;40m \u001b[0;30;40m \u001b[0;30;40m \u001b[0;30;40m \u001b[0;30;40m \u001b[0;30;40m \u001b[0;33;40m+\u001b[0;37;40m.\u001b[0;37;40m.\u001b[0;37;40m.\u001b[0;37;40m|\u001b[0;30;40m \u001b[0;30;40m \u001b[0;30;40m \u001b[0;30;40m \u001b[0;30;40m \u001b[0;30;40m \u001b[0;30;40m \u001b[0;30;40m \u001b[0;30;40m \u001b[0;30;40m \u001b[0;30;40m \u001b[0;30;40m \u001b[0;30;40m \u001b[0;30;40m \u001b[0;30;40m \u001b[0;30;40m \u001b[0;30;40m \u001b[0;30;40m \u001b[0;30;40m \u001b[0;30;40m \u001b[0;30;40m \u001b[0;30;40m \u001b[0;30;40m \u001b[0;30;40m \u001b[0;30;40m \u001b[0;30;40m \u001b[0;30;40m \u001b[0;30;40m \u001b[0;30;40m \u001b[0;30;40m \n",
      "\u001b[0;30;40m \u001b[0;30;40m \u001b[0;30;40m \u001b[0;30;40m \u001b[0;30;40m \u001b[0;30;40m \u001b[0;30;40m \u001b[0;30;40m \u001b[0;30;40m \u001b[0;30;40m \u001b[0;30;40m \u001b[0;30;40m \u001b[0;30;40m \u001b[0;30;40m \u001b[0;30;40m \u001b[0;30;40m \u001b[0;30;40m \u001b[0;30;40m \u001b[0;30;40m \u001b[0;30;40m \u001b[0;30;40m \u001b[0;30;40m \u001b[0;30;40m \u001b[0;30;40m \u001b[0;30;40m \u001b[0;30;40m \u001b[0;30;40m \u001b[0;30;40m \u001b[0;30;40m \u001b[0;30;40m \u001b[0;30;40m \u001b[0;30;40m \u001b[0;30;40m \u001b[0;30;40m \u001b[0;30;40m \u001b[0;30;40m \u001b[0;30;40m \u001b[0;30;40m \u001b[0;30;40m \u001b[0;30;40m \u001b[0;30;40m \u001b[0;30;40m \u001b[0;30;40m \u001b[0;30;40m \u001b[0;30;40m \u001b[0;37;40m|\u001b[0;37;40m.\u001b[0;37;40m.\u001b[0;37;40m.\u001b[0;37;40m|\u001b[0;30;40m \u001b[0;30;40m \u001b[0;30;40m \u001b[0;30;40m \u001b[0;30;40m \u001b[0;30;40m \u001b[0;30;40m \u001b[0;30;40m \u001b[0;30;40m \u001b[0;30;40m \u001b[0;30;40m \u001b[0;30;40m \u001b[0;30;40m \u001b[0;30;40m \u001b[0;30;40m \u001b[0;30;40m \u001b[0;30;40m \u001b[0;30;40m \u001b[0;30;40m \u001b[0;30;40m \u001b[0;30;40m \u001b[0;30;40m \u001b[0;30;40m \u001b[0;30;40m \u001b[0;30;40m \u001b[0;30;40m \u001b[0;30;40m \u001b[0;30;40m \u001b[0;30;40m \u001b[0;30;40m \n",
      "\u001b[0;30;40m \u001b[0;30;40m \u001b[0;30;40m \u001b[0;30;40m \u001b[0;30;40m \u001b[0;30;40m \u001b[0;30;40m \u001b[0;30;40m \u001b[0;30;40m \u001b[0;30;40m \u001b[0;30;40m \u001b[0;30;40m \u001b[0;30;40m \u001b[0;30;40m \u001b[0;30;40m \u001b[0;30;40m \u001b[0;30;40m \u001b[0;30;40m \u001b[0;30;40m \u001b[0;30;40m \u001b[0;30;40m \u001b[0;30;40m \u001b[0;30;40m \u001b[0;30;40m \u001b[0;30;40m \u001b[0;30;40m \u001b[0;30;40m \u001b[0;30;40m \u001b[0;30;40m \u001b[0;30;40m \u001b[0;30;40m \u001b[0;30;40m \u001b[0;30;40m \u001b[0;30;40m \u001b[0;30;40m \u001b[0;30;40m \u001b[0;30;40m \u001b[0;30;40m \u001b[0;30;40m \u001b[0;30;40m \u001b[0;30;40m \u001b[0;30;40m \u001b[0;30;40m \u001b[0;30;40m \u001b[0;30;40m \u001b[0;37;40m-\u001b[0;37;40m-\u001b[0;37;40m-\u001b[0;37;40m-\u001b[0;37;40m-\u001b[0;30;40m \u001b[0;30;40m \u001b[0;30;40m \u001b[0;30;40m \u001b[0;30;40m \u001b[0;30;40m \u001b[0;30;40m \u001b[0;30;40m \u001b[0;30;40m \u001b[0;30;40m \u001b[0;30;40m \u001b[0;30;40m \u001b[0;30;40m \u001b[0;30;40m \u001b[0;30;40m \u001b[0;30;40m \u001b[0;30;40m \u001b[0;30;40m \u001b[0;30;40m \u001b[0;30;40m \u001b[0;30;40m \u001b[0;30;40m \u001b[0;30;40m \u001b[0;30;40m \u001b[0;30;40m \u001b[0;30;40m \u001b[0;30;40m \u001b[0;30;40m \u001b[0;30;40m \u001b[0;30;40m \n",
      "\u001b[0;30;40m \u001b[0;30;40m \u001b[0;30;40m \u001b[0;30;40m \u001b[0;30;40m \u001b[0;30;40m \u001b[0;30;40m \u001b[0;30;40m \u001b[0;30;40m \u001b[0;30;40m \u001b[0;30;40m \u001b[0;30;40m \u001b[0;30;40m \u001b[0;30;40m \u001b[0;30;40m \u001b[0;30;40m \u001b[0;30;40m \u001b[0;30;40m \u001b[0;30;40m \u001b[0;30;40m \u001b[0;30;40m \u001b[0;30;40m \u001b[0;30;40m \u001b[0;30;40m \u001b[0;30;40m \u001b[0;30;40m \u001b[0;30;40m \u001b[0;30;40m \u001b[0;30;40m \u001b[0;30;40m \u001b[0;30;40m \u001b[0;30;40m \u001b[0;30;40m \u001b[0;30;40m \u001b[0;30;40m \u001b[0;30;40m \u001b[0;30;40m \u001b[0;30;40m \u001b[0;30;40m \u001b[0;30;40m \u001b[0;30;40m \u001b[0;30;40m \u001b[0;30;40m \u001b[0;30;40m \u001b[0;30;40m \u001b[0;30;40m \u001b[0;30;40m \u001b[0;30;40m \u001b[0;30;40m \u001b[0;30;40m \u001b[0;30;40m \u001b[0;30;40m \u001b[0;30;40m \u001b[0;30;40m \u001b[0;30;40m \u001b[0;30;40m \u001b[0;30;40m \u001b[0;30;40m \u001b[0;30;40m \u001b[0;30;40m \u001b[0;30;40m \u001b[0;30;40m \u001b[0;30;40m \u001b[0;30;40m \u001b[0;30;40m \u001b[0;30;40m \u001b[0;30;40m \u001b[0;30;40m \u001b[0;30;40m \u001b[0;30;40m \u001b[0;30;40m \u001b[0;30;40m \u001b[0;30;40m \u001b[0;30;40m \u001b[0;30;40m \u001b[0;30;40m \u001b[0;30;40m \u001b[0;30;40m \u001b[0;30;40m \u001b[0;30;40m \n",
      "\u001b[0;30;40m \u001b[0;30;40m \u001b[0;30;40m \u001b[0;30;40m \u001b[0;30;40m \u001b[0;30;40m \u001b[0;30;40m \u001b[0;30;40m \u001b[0;30;40m \u001b[0;30;40m \u001b[0;30;40m \u001b[0;30;40m \u001b[0;30;40m \u001b[0;30;40m \u001b[0;30;40m \u001b[0;30;40m \u001b[0;30;40m \u001b[0;30;40m \u001b[0;30;40m \u001b[0;30;40m \u001b[0;30;40m \u001b[0;30;40m \u001b[0;30;40m \u001b[0;30;40m \u001b[0;30;40m \u001b[0;30;40m \u001b[0;30;40m \u001b[0;30;40m \u001b[0;30;40m \u001b[0;30;40m \u001b[0;30;40m \u001b[0;30;40m \u001b[0;30;40m \u001b[0;30;40m \u001b[0;30;40m \u001b[0;30;40m \u001b[0;30;40m \u001b[0;30;40m \u001b[0;30;40m \u001b[0;30;40m \u001b[0;30;40m \u001b[0;30;40m \u001b[0;30;40m \u001b[0;30;40m \u001b[0;30;40m \u001b[0;30;40m \u001b[0;30;40m \u001b[0;30;40m \u001b[0;30;40m \u001b[0;30;40m \u001b[0;30;40m \u001b[0;30;40m \u001b[0;30;40m \u001b[0;30;40m \u001b[0;30;40m \u001b[0;30;40m \u001b[0;30;40m \u001b[0;30;40m \u001b[0;30;40m \u001b[0;30;40m \u001b[0;30;40m \u001b[0;30;40m \u001b[0;30;40m \u001b[0;30;40m \u001b[0;30;40m \u001b[0;30;40m \u001b[0;30;40m \u001b[0;30;40m \u001b[0;30;40m \u001b[0;30;40m \u001b[0;30;40m \u001b[0;30;40m \u001b[0;30;40m \u001b[0;30;40m \u001b[0;30;40m \u001b[0;30;40m \u001b[0;30;40m \u001b[0;30;40m \u001b[0;30;40m \u001b[0;30;40m \n",
      "\u001b[0;30;40m \u001b[0;30;40m \u001b[0;30;40m \u001b[0;30;40m \u001b[0;30;40m \u001b[0;30;40m \u001b[0;30;40m \u001b[0;30;40m \u001b[0;30;40m \u001b[0;30;40m \u001b[0;30;40m \u001b[0;30;40m \u001b[0;30;40m \u001b[0;30;40m \u001b[0;30;40m \u001b[0;30;40m \u001b[0;30;40m \u001b[0;30;40m \u001b[0;30;40m \u001b[0;30;40m \u001b[0;30;40m \u001b[0;30;40m \u001b[0;30;40m \u001b[0;30;40m \u001b[0;30;40m \u001b[0;30;40m \u001b[0;30;40m \u001b[0;30;40m \u001b[0;30;40m \u001b[0;30;40m \u001b[0;30;40m \u001b[0;30;40m \u001b[0;30;40m \u001b[0;30;40m \u001b[0;30;40m \u001b[0;30;40m \u001b[0;30;40m \u001b[0;30;40m \u001b[0;30;40m \u001b[0;30;40m \u001b[0;30;40m \u001b[0;30;40m \u001b[0;30;40m \u001b[0;30;40m \u001b[0;30;40m \u001b[0;30;40m \u001b[0;30;40m \u001b[0;30;40m \u001b[0;30;40m \u001b[0;30;40m \u001b[0;30;40m \u001b[0;30;40m \u001b[0;30;40m \u001b[0;30;40m \u001b[0;30;40m \u001b[0;30;40m \u001b[0;30;40m \u001b[0;30;40m \u001b[0;30;40m \u001b[0;30;40m \u001b[0;30;40m \u001b[0;30;40m \u001b[0;30;40m \u001b[0;30;40m \u001b[0;30;40m \u001b[0;30;40m \u001b[0;30;40m \u001b[0;30;40m \u001b[0;30;40m \u001b[0;30;40m \u001b[0;30;40m \u001b[0;30;40m \u001b[0;30;40m \u001b[0;30;40m \u001b[0;30;40m \u001b[0;30;40m \u001b[0;30;40m \u001b[0;30;40m \u001b[0;30;40m \u001b[0;30;40m \n",
      "\u001b[0;30;40m \u001b[0;30;40m \u001b[0;30;40m \u001b[0;30;40m \u001b[0;30;40m \u001b[0;30;40m \u001b[0;30;40m \u001b[0;30;40m \u001b[0;30;40m \u001b[0;30;40m \u001b[0;30;40m \u001b[0;30;40m \u001b[0;30;40m \u001b[0;30;40m \u001b[0;30;40m \u001b[0;30;40m \u001b[0;30;40m \u001b[0;30;40m \u001b[0;30;40m \u001b[0;30;40m \u001b[0;30;40m \u001b[0;30;40m \u001b[0;30;40m \u001b[0;30;40m \u001b[0;30;40m \u001b[0;30;40m \u001b[0;30;40m \u001b[0;30;40m \u001b[0;30;40m \u001b[0;30;40m \u001b[0;30;40m \u001b[0;30;40m \u001b[0;30;40m \u001b[0;30;40m \u001b[0;30;40m \u001b[0;30;40m \u001b[0;30;40m \u001b[0;30;40m \u001b[0;30;40m \u001b[0;30;40m \u001b[0;30;40m \u001b[0;30;40m \u001b[0;30;40m \u001b[0;30;40m \u001b[0;30;40m \u001b[0;30;40m \u001b[0;30;40m \u001b[0;30;40m \u001b[0;30;40m \u001b[0;30;40m \u001b[0;30;40m \u001b[0;30;40m \u001b[0;30;40m \u001b[0;30;40m \u001b[0;30;40m \u001b[0;30;40m \u001b[0;30;40m \u001b[0;30;40m \u001b[0;30;40m \u001b[0;30;40m \u001b[0;30;40m \u001b[0;30;40m \u001b[0;30;40m \u001b[0;30;40m \u001b[0;30;40m \u001b[0;30;40m \u001b[0;30;40m \u001b[0;30;40m \u001b[0;30;40m \u001b[0;30;40m \u001b[0;30;40m \u001b[0;30;40m \u001b[0;30;40m \u001b[0;30;40m \u001b[0;30;40m \u001b[0;30;40m \u001b[0;30;40m \u001b[0;30;40m \u001b[0;30;40m \u001b[0;30;40m \n",
      "\u001b[0;30;40m \u001b[0;30;40m \u001b[0;30;40m \u001b[0;30;40m \u001b[0;30;40m \u001b[0;30;40m \u001b[0;30;40m \u001b[0;30;40m \u001b[0;30;40m \u001b[0;30;40m \u001b[0;30;40m \u001b[0;30;40m \u001b[0;30;40m \u001b[0;30;40m \u001b[0;30;40m \u001b[0;30;40m \u001b[0;30;40m \u001b[0;30;40m \u001b[0;30;40m \u001b[0;30;40m \u001b[0;30;40m \u001b[0;30;40m \u001b[0;30;40m \u001b[0;30;40m \u001b[0;30;40m \u001b[0;30;40m \u001b[0;30;40m \u001b[0;30;40m \u001b[0;30;40m \u001b[0;30;40m \u001b[0;30;40m \u001b[0;30;40m \u001b[0;30;40m \u001b[0;30;40m \u001b[0;30;40m \u001b[0;30;40m \u001b[0;30;40m \u001b[0;30;40m \u001b[0;30;40m \u001b[0;30;40m \u001b[0;30;40m \u001b[0;30;40m \u001b[0;30;40m \u001b[0;30;40m \u001b[0;30;40m \u001b[0;30;40m \u001b[0;30;40m \u001b[0;30;40m \u001b[0;30;40m \u001b[0;30;40m \u001b[0;30;40m \u001b[0;30;40m \u001b[0;30;40m \u001b[0;30;40m \u001b[0;30;40m \u001b[0;30;40m \u001b[0;30;40m \u001b[0;30;40m \u001b[0;30;40m \u001b[0;30;40m \u001b[0;30;40m \u001b[0;30;40m \u001b[0;30;40m \u001b[0;30;40m \u001b[0;30;40m \u001b[0;30;40m \u001b[0;30;40m \u001b[0;30;40m \u001b[0;30;40m \u001b[0;30;40m \u001b[0;30;40m \u001b[0;30;40m \u001b[0;30;40m \u001b[0;30;40m \u001b[0;30;40m \u001b[0;30;40m \u001b[0;30;40m \u001b[0;30;40m \u001b[0;30;40m \u001b[0;30;40m \n",
      "\u001b[0;30;40m \u001b[0;30;40m \u001b[0;30;40m \u001b[0;30;40m \u001b[0;30;40m \u001b[0;30;40m \u001b[0;30;40m \u001b[0;30;40m \u001b[0;30;40m \u001b[0;30;40m \u001b[0;30;40m \u001b[0;30;40m \u001b[0;30;40m \u001b[0;30;40m \u001b[0;30;40m \u001b[0;30;40m \u001b[0;30;40m \u001b[0;30;40m \u001b[0;30;40m \u001b[0;30;40m \u001b[0;30;40m \u001b[0;30;40m \u001b[0;30;40m \u001b[0;30;40m \u001b[0;30;40m \u001b[0;30;40m \u001b[0;30;40m \u001b[0;30;40m \u001b[0;30;40m \u001b[0;30;40m \u001b[0;30;40m \u001b[0;30;40m \u001b[0;30;40m \u001b[0;30;40m \u001b[0;30;40m \u001b[0;30;40m \u001b[0;30;40m \u001b[0;30;40m \u001b[0;30;40m \u001b[0;30;40m \u001b[0;30;40m \u001b[0;30;40m \u001b[0;30;40m \u001b[0;30;40m \u001b[0;30;40m \u001b[0;30;40m \u001b[0;30;40m \u001b[0;30;40m \u001b[0;30;40m \u001b[0;30;40m \u001b[0;30;40m \u001b[0;30;40m \u001b[0;30;40m \u001b[0;30;40m \u001b[0;30;40m \u001b[0;30;40m \u001b[0;30;40m \u001b[0;30;40m \u001b[0;30;40m \u001b[0;30;40m \u001b[0;30;40m \u001b[0;30;40m \u001b[0;30;40m \u001b[0;30;40m \u001b[0;30;40m \u001b[0;30;40m \u001b[0;30;40m \u001b[0;30;40m \u001b[0;30;40m \u001b[0;30;40m \u001b[0;30;40m \u001b[0;30;40m \u001b[0;30;40m \u001b[0;30;40m \u001b[0;30;40m \u001b[0;30;40m \u001b[0;30;40m \u001b[0;30;40m \u001b[0;30;40m \u001b[0;30;40m \n",
      "\u001b[0;30;40m \u001b[0;30;40m \u001b[0;30;40m \u001b[0;30;40m \u001b[0;30;40m \u001b[0;30;40m \u001b[0;30;40m \u001b[0;30;40m \u001b[0;30;40m \u001b[0;30;40m \u001b[0;30;40m \u001b[0;30;40m \u001b[0;30;40m \u001b[0;30;40m \u001b[0;30;40m \u001b[0;30;40m \u001b[0;30;40m \u001b[0;30;40m \u001b[0;30;40m \u001b[0;30;40m \u001b[0;30;40m \u001b[0;30;40m \u001b[0;30;40m \u001b[0;30;40m \u001b[0;30;40m \u001b[0;30;40m \u001b[0;30;40m \u001b[0;30;40m \u001b[0;30;40m \u001b[0;30;40m \u001b[0;30;40m \u001b[0;30;40m \u001b[0;30;40m \u001b[0;30;40m \u001b[0;30;40m \u001b[0;30;40m \u001b[0;30;40m \u001b[0;30;40m \u001b[0;30;40m \u001b[0;30;40m \u001b[0;30;40m \u001b[0;30;40m \u001b[0;30;40m \u001b[0;30;40m \u001b[0;30;40m \u001b[0;30;40m \u001b[0;30;40m \u001b[0;30;40m \u001b[0;30;40m \u001b[0;30;40m \u001b[0;30;40m \u001b[0;30;40m \u001b[0;30;40m \u001b[0;30;40m \u001b[0;30;40m \u001b[0;30;40m \u001b[0;30;40m \u001b[0;30;40m \u001b[0;30;40m \u001b[0;30;40m \u001b[0;30;40m \u001b[0;30;40m \u001b[0;30;40m \u001b[0;30;40m \u001b[0;30;40m \u001b[0;30;40m \u001b[0;30;40m \u001b[0;30;40m \u001b[0;30;40m \u001b[0;30;40m \u001b[0;30;40m \u001b[0;30;40m \u001b[0;30;40m \u001b[0;30;40m \u001b[0;30;40m \u001b[0;30;40m \u001b[0;30;40m \u001b[0;30;40m \u001b[0;30;40m \u001b[0;30;40m \n",
      "\u001b[0;30;40m \u001b[0;30;40m \u001b[0;30;40m \u001b[0;30;40m \u001b[0;30;40m \u001b[0;30;40m \u001b[0;30;40m \u001b[0;30;40m \u001b[0;30;40m \u001b[0;30;40m \u001b[0;30;40m \u001b[0;30;40m \u001b[0;30;40m \u001b[0;30;40m \u001b[0;30;40m \u001b[0;30;40m \u001b[0;30;40m \u001b[0;30;40m \u001b[0;30;40m \u001b[0;30;40m \u001b[0;30;40m \u001b[0;30;40m \u001b[0;30;40m \u001b[0;30;40m \u001b[0;30;40m \u001b[0;30;40m \u001b[0;30;40m \u001b[0;30;40m \u001b[0;30;40m \u001b[0;30;40m \u001b[0;30;40m \u001b[0;30;40m \u001b[0;30;40m \u001b[0;30;40m \u001b[0;30;40m \u001b[0;30;40m \u001b[0;30;40m \u001b[0;30;40m \u001b[0;30;40m \u001b[0;30;40m \u001b[0;30;40m \u001b[0;30;40m \u001b[0;30;40m \u001b[0;30;40m \u001b[0;30;40m \u001b[0;30;40m \u001b[0;30;40m \u001b[0;30;40m \u001b[0;30;40m \u001b[0;30;40m \u001b[0;30;40m \u001b[0;30;40m \u001b[0;30;40m \u001b[0;30;40m \u001b[0;30;40m \u001b[0;30;40m \u001b[0;30;40m \u001b[0;30;40m \u001b[0;30;40m \u001b[0;30;40m \u001b[0;30;40m \u001b[0;30;40m \u001b[0;30;40m \u001b[0;30;40m \u001b[0;30;40m \u001b[0;30;40m \u001b[0;30;40m \u001b[0;30;40m \u001b[0;30;40m \u001b[0;30;40m \u001b[0;30;40m \u001b[0;30;40m \u001b[0;30;40m \u001b[0;30;40m \u001b[0;30;40m \u001b[0;30;40m \u001b[0;30;40m \u001b[0;30;40m \u001b[0;30;40m \u001b[0;30;40m \n",
      "\u001b[0;30;40m \u001b[0;30;40m \u001b[0;30;40m \u001b[0;30;40m \u001b[0;30;40m \u001b[0;30;40m \u001b[0;30;40m \u001b[0;30;40m \u001b[0;30;40m \u001b[0;30;40m \u001b[0;30;40m \u001b[0;30;40m \u001b[0;30;40m \u001b[0;30;40m \u001b[0;30;40m \u001b[0;30;40m \u001b[0;30;40m \u001b[0;30;40m \u001b[0;30;40m \u001b[0;30;40m \u001b[0;30;40m \u001b[0;30;40m \u001b[0;30;40m \u001b[0;30;40m \u001b[0;30;40m \u001b[0;30;40m \u001b[0;30;40m \u001b[0;30;40m \u001b[0;30;40m \u001b[0;30;40m \u001b[0;30;40m \u001b[0;30;40m \u001b[0;30;40m \u001b[0;30;40m \u001b[0;30;40m \u001b[0;30;40m \u001b[0;30;40m \u001b[0;30;40m \u001b[0;30;40m \u001b[0;30;40m \u001b[0;30;40m \u001b[0;30;40m \u001b[0;30;40m \u001b[0;30;40m \u001b[0;30;40m \u001b[0;30;40m \u001b[0;30;40m \u001b[0;30;40m \u001b[0;30;40m \u001b[0;30;40m \u001b[0;30;40m \u001b[0;30;40m \u001b[0;30;40m \u001b[0;30;40m \u001b[0;30;40m \u001b[0;30;40m \u001b[0;30;40m \u001b[0;30;40m \u001b[0;30;40m \u001b[0;30;40m \u001b[0;30;40m \u001b[0;30;40m \u001b[0;30;40m \u001b[0;30;40m \u001b[0;30;40m \u001b[0;30;40m \u001b[0;30;40m \u001b[0;30;40m \u001b[0;30;40m \u001b[0;30;40m \u001b[0;30;40m \u001b[0;30;40m \u001b[0;30;40m \u001b[0;30;40m \u001b[0;30;40m \u001b[0;30;40m \u001b[0;30;40m \u001b[0;30;40m \u001b[0;30;40m \u001b[0;30;40m \n",
      "\u001b[0;37;40mA\u001b[0;37;40mg\u001b[0;37;40me\u001b[0;37;40mn\u001b[0;37;40mt\u001b[0;30;40m \u001b[0;37;40mt\u001b[0;37;40mh\u001b[0;37;40me\u001b[0;30;40m \u001b[0;37;40mR\u001b[0;37;40ma\u001b[0;37;40mm\u001b[0;37;40mb\u001b[0;37;40ml\u001b[0;37;40me\u001b[0;37;40mr\u001b[0;30;40m \u001b[0;30;40m \u001b[0;30;40m \u001b[0;30;40m \u001b[0;30;40m \u001b[0;30;40m \u001b[0;30;40m \u001b[0;30;40m \u001b[0;30;40m \u001b[0;30;40m \u001b[0;30;40m \u001b[0;30;40m \u001b[0;30;40m \u001b[0;30;40m \u001b[0;37;40mS\u001b[0;37;40mt\u001b[0;37;40m:\u001b[0;37;40m1\u001b[0;37;40m0\u001b[0;30;40m \u001b[0;37;40mD\u001b[0;37;40mx\u001b[0;37;40m:\u001b[0;37;40m1\u001b[0;37;40m3\u001b[0;30;40m \u001b[0;37;40mC\u001b[0;37;40mo\u001b[0;37;40m:\u001b[0;37;40m1\u001b[0;37;40m1\u001b[0;30;40m \u001b[0;37;40mI\u001b[0;37;40mn\u001b[0;37;40m:\u001b[0;37;40m1\u001b[0;37;40m2\u001b[0;30;40m \u001b[0;37;40mW\u001b[0;37;40mi\u001b[0;37;40m:\u001b[0;37;40m1\u001b[0;37;40m5\u001b[0;30;40m \u001b[0;37;40mC\u001b[0;37;40mh\u001b[0;37;40m:\u001b[0;37;40m1\u001b[0;37;40m4\u001b[0;30;40m \u001b[0;37;40mN\u001b[0;37;40me\u001b[0;37;40mu\u001b[0;37;40mt\u001b[0;37;40mr\u001b[0;37;40ma\u001b[0;37;40ml\u001b[0;30;40m \u001b[0;37;40mS\u001b[0;37;40m:\u001b[0;37;40m0\u001b[0;30;40m \u001b[0;30;40m \n",
      "\u001b[0;37;40mD\u001b[0;37;40ml\u001b[0;37;40mv\u001b[0;37;40ml\u001b[0;37;40m:\u001b[0;37;40m1\u001b[0;30;40m \u001b[0;37;40m$\u001b[0;37;40m:\u001b[0;37;40m2\u001b[0;37;40m0\u001b[0;37;40m0\u001b[0;30;40m \u001b[0;37;40mH\u001b[0;37;40mP\u001b[0;37;40m:\u001b[0;37;40m1\u001b[0;37;40m0\u001b[0;37;40m(\u001b[0;37;40m1\u001b[0;37;40m0\u001b[0;37;40m)\u001b[0;30;40m \u001b[0;37;40mP\u001b[0;37;40mw\u001b[0;37;40m:\u001b[0;37;40m2\u001b[0;37;40m(\u001b[0;37;40m2\u001b[0;37;40m)\u001b[0;30;40m \u001b[0;37;40mA\u001b[0;37;40mC\u001b[0;37;40m:\u001b[0;37;40m1\u001b[0;37;40m0\u001b[0;30;40m \u001b[0;37;40mX\u001b[0;37;40mp\u001b[0;37;40m:\u001b[0;37;40m1\u001b[0;37;40m/\u001b[0;37;40m0\u001b[0;30;40m \u001b[0;30;40m \u001b[0;30;40m \u001b[0;30;40m \u001b[0;30;40m \u001b[0;30;40m \u001b[0;30;40m \u001b[0;30;40m \u001b[0;30;40m \u001b[0;30;40m \u001b[0;30;40m \u001b[0;30;40m \u001b[0;30;40m \u001b[0;30;40m \u001b[0;30;40m \u001b[0;30;40m \u001b[0;30;40m \u001b[0;30;40m \u001b[0;30;40m \u001b[0;30;40m \u001b[0;30;40m \u001b[0;30;40m \u001b[0;30;40m \u001b[0;30;40m \u001b[0;30;40m \u001b[0;30;40m \u001b[0;30;40m \u001b[0;30;40m \u001b[0;30;40m \u001b[0;30;40m \u001b[0;30;40m \u001b[0;30;40m \u001b[0;30;40m \u001b[0;30;40m \u001b[0;30;40m \u001b[0;30;40m \u001b[0;30;40m \u001b[0m\n"
     ]
    }
   ],
   "source": [
    "print(obs['tty_cursor'])\n",
    "env.render('notebook')"
   ]
  },
  {
   "cell_type": "markdown",
   "id": "250d9f6a",
   "metadata": {
    "id": "250d9f6a"
   },
   "source": [
    "# Next Steps?\n",
    "\n",
    "Included in the starter kit is a [Torchbeast](https://arxiv.org/abs/1910.03552) implementation of [IMPALA](https://arxiv.org/abs/1802.01561), a large scale distributed RL algorithm, adapted for NLE. A similar model was used in the original NLE paper to produce non-trivial learning curves for environments such as NetHackScore-v0.  \n",
    "\n",
    "In the original NLE paper, the agent architecture was as follows:\n",
    "\n",
    "![](https://drive.google.com/uc?export=view&id=1VcYSl7z-0nnzJ4duv6HzRD5dw7h5U10Y)\n",
    "\n",
    "As can be seen, the model utilized both an agent centric view and a global view, which are both processed with convolutional neural network (CNN) layers. In addition, the blstats are processed with an MLP. Finally, the embeddings are passed into an LSTM to deal with partial observability. \n",
    "\n",
    "The baseline is almost identical except wit one key difference - we haven added an CNN encoder for the `message` observation. This architecture may provide a promising starting point for development, but the sky is the limit for new ideas!  Check out the [README.md](./nethack_baselines/torchbeast/README.md) to get started!"
   ]
  },
  {
   "cell_type": "markdown",
   "id": "af86ddfe",
   "metadata": {
    "id": "af86ddfe"
   },
   "source": [
    "And if you want to learn more about NetHack, checkout:\n",
    "\n",
    "* [NetHackWiki](https://nethackwiki.com/wiki/Main_Page)\n",
    "* [the Beginner's Guide](https://nethackwiki.com/wiki/Why_do_I_keep_dying%3F)\n",
    "* [MIT course on NetHack](https://rec.games.roguelike.nethack.narkive.com/n31QHcTe/nethack-class-at-mit-follow-along-virtually) (yes seriously!)"
   ]
  }
 ],
 "metadata": {
  "colab": {
   "collapsed_sections": [],
   "name": "NetHackTutorialv2.ipynb",
   "provenance": [
    {
     "file_id": "1jMdjVpK0In_EFdfjpuwEwNEQZk6WUq9r",
     "timestamp": 1625065052964
    },
    {
     "file_id": "1cp-tPh59OvREFv9x6VNSlqDaWV_elknr",
     "timestamp": 1623089526746
    },
    {
     "file_id": "1KoZZJHfHwG4PCMGIc7gav34pw0ElpizG",
     "timestamp": 1623087705363
    }
   ]
  },
  "kernelspec": {
   "display_name": "py38",
   "language": "python",
   "name": "py38"
  },
  "language_info": {
   "codemirror_mode": {
    "name": "ipython",
    "version": 3
   },
   "file_extension": ".py",
   "mimetype": "text/x-python",
   "name": "python",
   "nbconvert_exporter": "python",
   "pygments_lexer": "ipython3",
   "version": "3.8.10"
  }
 },
 "nbformat": 4,
 "nbformat_minor": 5
}
